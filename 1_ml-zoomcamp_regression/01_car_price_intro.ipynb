{
 "cells": [
  {
   "cell_type": "markdown",
   "id": "d62581a7",
   "metadata": {},
   "source": [
    "# Car Price Intro\n",
    "\n",
    "## Project plan:\n",
    "\n",
    "- Prepare data and Exploratory data analysis (EDA)\n",
    "- Use linear regression for predicting price\n",
    "- Understanding the internals of linear regression\n",
    "- Evaluating the model with RMSE\n",
    "- Feature engineering\n",
    "- Regularization\n",
    "- Using the model"
   ]
  },
  {
   "cell_type": "code",
   "execution_count": null,
   "id": "7877a718",
   "metadata": {},
   "outputs": [],
   "source": []
  }
 ],
 "metadata": {
  "kernelspec": {
   "display_name": "Python 3 (ipykernel)",
   "language": "python",
   "name": "python3"
  },
  "language_info": {
   "codemirror_mode": {
    "name": "ipython",
    "version": 3
   },
   "file_extension": ".py",
   "mimetype": "text/x-python",
   "name": "python",
   "nbconvert_exporter": "python",
   "pygments_lexer": "ipython3",
   "version": "3.8.18"
  }
 },
 "nbformat": 4,
 "nbformat_minor": 5
}
