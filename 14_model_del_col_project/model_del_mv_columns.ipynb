{
 "cells": [
  {
   "cell_type": "markdown",
   "metadata": {},
   "source": [
    "# Model Building and Evaluation"
   ]
  },
  {
   "cell_type": "markdown",
   "metadata": {},
   "source": [
    "## Importing the Necessary Libraries and Loading the Dataset"
   ]
  },
  {
   "cell_type": "code",
   "execution_count": 2,
   "metadata": {},
   "outputs": [],
   "source": [
    "# import libraries\n",
    "import numpy as np\n",
    "import pandas as pd\n",
    "from matplotlib import pyplot as plt\n",
    "import seaborn as sns\n",
    "from sklearn.model_selection import train_test_split\n",
    "# %matplotlib inline"
   ]
  },
  {
   "cell_type": "code",
   "execution_count": 4,
   "metadata": {},
   "outputs": [
    {
     "data": {
      "text/html": [
       "<div>\n",
       "<style scoped>\n",
       "    .dataframe tbody tr th:only-of-type {\n",
       "        vertical-align: middle;\n",
       "    }\n",
       "\n",
       "    .dataframe tbody tr th {\n",
       "        vertical-align: top;\n",
       "    }\n",
       "\n",
       "    .dataframe thead th {\n",
       "        text-align: right;\n",
       "    }\n",
       "</style>\n",
       "<table border=\"1\" class=\"dataframe\">\n",
       "  <thead>\n",
       "    <tr style=\"text-align: right;\">\n",
       "      <th></th>\n",
       "      <th>nox</th>\n",
       "      <th>rm</th>\n",
       "      <th>dis</th>\n",
       "      <th>tax</th>\n",
       "      <th>ptratio</th>\n",
       "      <th>b</th>\n",
       "      <th>medv</th>\n",
       "    </tr>\n",
       "  </thead>\n",
       "  <tbody>\n",
       "    <tr>\n",
       "      <th>0</th>\n",
       "      <td>0.538</td>\n",
       "      <td>6.575</td>\n",
       "      <td>4.0900</td>\n",
       "      <td>296</td>\n",
       "      <td>15.3</td>\n",
       "      <td>396.90</td>\n",
       "      <td>24.0</td>\n",
       "    </tr>\n",
       "    <tr>\n",
       "      <th>1</th>\n",
       "      <td>0.469</td>\n",
       "      <td>6.421</td>\n",
       "      <td>4.9671</td>\n",
       "      <td>242</td>\n",
       "      <td>17.8</td>\n",
       "      <td>396.90</td>\n",
       "      <td>21.6</td>\n",
       "    </tr>\n",
       "    <tr>\n",
       "      <th>2</th>\n",
       "      <td>0.469</td>\n",
       "      <td>7.185</td>\n",
       "      <td>4.9671</td>\n",
       "      <td>242</td>\n",
       "      <td>17.8</td>\n",
       "      <td>392.83</td>\n",
       "      <td>34.7</td>\n",
       "    </tr>\n",
       "    <tr>\n",
       "      <th>3</th>\n",
       "      <td>0.458</td>\n",
       "      <td>6.998</td>\n",
       "      <td>6.0622</td>\n",
       "      <td>222</td>\n",
       "      <td>18.7</td>\n",
       "      <td>394.63</td>\n",
       "      <td>33.4</td>\n",
       "    </tr>\n",
       "    <tr>\n",
       "      <th>4</th>\n",
       "      <td>0.458</td>\n",
       "      <td>7.147</td>\n",
       "      <td>6.0622</td>\n",
       "      <td>222</td>\n",
       "      <td>18.7</td>\n",
       "      <td>396.90</td>\n",
       "      <td>36.2</td>\n",
       "    </tr>\n",
       "    <tr>\n",
       "      <th>...</th>\n",
       "      <td>...</td>\n",
       "      <td>...</td>\n",
       "      <td>...</td>\n",
       "      <td>...</td>\n",
       "      <td>...</td>\n",
       "      <td>...</td>\n",
       "      <td>...</td>\n",
       "    </tr>\n",
       "    <tr>\n",
       "      <th>501</th>\n",
       "      <td>0.573</td>\n",
       "      <td>6.593</td>\n",
       "      <td>2.4786</td>\n",
       "      <td>273</td>\n",
       "      <td>21.0</td>\n",
       "      <td>391.99</td>\n",
       "      <td>22.4</td>\n",
       "    </tr>\n",
       "    <tr>\n",
       "      <th>502</th>\n",
       "      <td>0.573</td>\n",
       "      <td>6.120</td>\n",
       "      <td>2.2875</td>\n",
       "      <td>273</td>\n",
       "      <td>21.0</td>\n",
       "      <td>396.90</td>\n",
       "      <td>20.6</td>\n",
       "    </tr>\n",
       "    <tr>\n",
       "      <th>503</th>\n",
       "      <td>0.573</td>\n",
       "      <td>6.976</td>\n",
       "      <td>2.1675</td>\n",
       "      <td>273</td>\n",
       "      <td>21.0</td>\n",
       "      <td>396.90</td>\n",
       "      <td>23.9</td>\n",
       "    </tr>\n",
       "    <tr>\n",
       "      <th>504</th>\n",
       "      <td>0.573</td>\n",
       "      <td>6.794</td>\n",
       "      <td>2.3889</td>\n",
       "      <td>273</td>\n",
       "      <td>21.0</td>\n",
       "      <td>393.45</td>\n",
       "      <td>22.0</td>\n",
       "    </tr>\n",
       "    <tr>\n",
       "      <th>505</th>\n",
       "      <td>0.573</td>\n",
       "      <td>6.030</td>\n",
       "      <td>2.5050</td>\n",
       "      <td>273</td>\n",
       "      <td>21.0</td>\n",
       "      <td>396.90</td>\n",
       "      <td>11.9</td>\n",
       "    </tr>\n",
       "  </tbody>\n",
       "</table>\n",
       "<p>506 rows × 7 columns</p>\n",
       "</div>"
      ],
      "text/plain": [
       "       nox     rm     dis  tax  ptratio       b  medv\n",
       "0    0.538  6.575  4.0900  296     15.3  396.90  24.0\n",
       "1    0.469  6.421  4.9671  242     17.8  396.90  21.6\n",
       "2    0.469  7.185  4.9671  242     17.8  392.83  34.7\n",
       "3    0.458  6.998  6.0622  222     18.7  394.63  33.4\n",
       "4    0.458  7.147  6.0622  222     18.7  396.90  36.2\n",
       "..     ...    ...     ...  ...      ...     ...   ...\n",
       "501  0.573  6.593  2.4786  273     21.0  391.99  22.4\n",
       "502  0.573  6.120  2.2875  273     21.0  396.90  20.6\n",
       "503  0.573  6.976  2.1675  273     21.0  396.90  23.9\n",
       "504  0.573  6.794  2.3889  273     21.0  393.45  22.0\n",
       "505  0.573  6.030  2.5050  273     21.0  396.90  11.9\n",
       "\n",
       "[506 rows x 7 columns]"
      ]
     },
     "execution_count": 4,
     "metadata": {},
     "output_type": "execute_result"
    }
   ],
   "source": [
    "# load preprocessed dataset\n",
    "df = pd.read_csv('./deleted_mv_dataset_columns.csv')\n",
    "df"
   ]
  },
  {
   "cell_type": "markdown",
   "metadata": {},
   "source": [
    "## Getting the Variables and Spliting the Data\n",
    "\n",
    "Here, we get the independent(X) and dependent(y) features/variables for the 3 split dataset - `train`, `validation`, and `test`. Test size will be set to 20% while 80% will be for the train (this will be further split to get a `train` and `validation` dataset). 'random state' is added to make the split reproducible irrespective of the hardware it is run on."
   ]
  },
  {
   "cell_type": "code",
   "execution_count": 5,
   "metadata": {},
   "outputs": [],
   "source": [
    "# split the dataset\n",
    "# test size:- 20%\n",
    "# train size:- 80%\n",
    "\n",
    "np.random.seed(0)\n",
    "df_full_train, df_test = train_test_split(df, test_size=0.25, random_state=1)"
   ]
  },
  {
   "cell_type": "code",
   "execution_count": 6,
   "metadata": {},
   "outputs": [
    {
     "data": {
      "text/plain": [
       "(379, 127)"
      ]
     },
     "execution_count": 6,
     "metadata": {},
     "output_type": "execute_result"
    }
   ],
   "source": [
    "len(df_full_train), len(df_test)"
   ]
  },
  {
   "cell_type": "markdown",
   "metadata": {},
   "source": [
    "### Getting the Independent(X) and Dependent(y) Variables for the Test Dataset\n",
    "\n",
    "Here we get the dependent and indepepndent variable for the test dataset. Before that we want to reset the index. We don't have to but it's nicer to do."
   ]
  },
  {
   "cell_type": "code",
   "execution_count": 7,
   "metadata": {},
   "outputs": [
    {
     "data": {
      "text/html": [
       "<div>\n",
       "<style scoped>\n",
       "    .dataframe tbody tr th:only-of-type {\n",
       "        vertical-align: middle;\n",
       "    }\n",
       "\n",
       "    .dataframe tbody tr th {\n",
       "        vertical-align: top;\n",
       "    }\n",
       "\n",
       "    .dataframe thead th {\n",
       "        text-align: right;\n",
       "    }\n",
       "</style>\n",
       "<table border=\"1\" class=\"dataframe\">\n",
       "  <thead>\n",
       "    <tr style=\"text-align: right;\">\n",
       "      <th></th>\n",
       "      <th>nox</th>\n",
       "      <th>rm</th>\n",
       "      <th>dis</th>\n",
       "      <th>tax</th>\n",
       "      <th>ptratio</th>\n",
       "      <th>b</th>\n",
       "      <th>medv</th>\n",
       "    </tr>\n",
       "  </thead>\n",
       "  <tbody>\n",
       "    <tr>\n",
       "      <th>0</th>\n",
       "      <td>0.472</td>\n",
       "      <td>6.849</td>\n",
       "      <td>3.1827</td>\n",
       "      <td>222</td>\n",
       "      <td>18.4</td>\n",
       "      <td>396.90</td>\n",
       "      <td>28.2</td>\n",
       "    </tr>\n",
       "    <tr>\n",
       "      <th>1</th>\n",
       "      <td>0.484</td>\n",
       "      <td>6.696</td>\n",
       "      <td>5.7321</td>\n",
       "      <td>370</td>\n",
       "      <td>17.6</td>\n",
       "      <td>396.90</td>\n",
       "      <td>23.9</td>\n",
       "    </tr>\n",
       "    <tr>\n",
       "      <th>2</th>\n",
       "      <td>0.448</td>\n",
       "      <td>6.030</td>\n",
       "      <td>5.6894</td>\n",
       "      <td>233</td>\n",
       "      <td>17.9</td>\n",
       "      <td>392.74</td>\n",
       "      <td>16.6</td>\n",
       "    </tr>\n",
       "    <tr>\n",
       "      <th>3</th>\n",
       "      <td>0.409</td>\n",
       "      <td>5.878</td>\n",
       "      <td>6.4980</td>\n",
       "      <td>345</td>\n",
       "      <td>18.9</td>\n",
       "      <td>396.21</td>\n",
       "      <td>22.0</td>\n",
       "    </tr>\n",
       "    <tr>\n",
       "      <th>4</th>\n",
       "      <td>0.770</td>\n",
       "      <td>5.362</td>\n",
       "      <td>2.1036</td>\n",
       "      <td>666</td>\n",
       "      <td>20.2</td>\n",
       "      <td>380.79</td>\n",
       "      <td>20.8</td>\n",
       "    </tr>\n",
       "    <tr>\n",
       "      <th>...</th>\n",
       "      <td>...</td>\n",
       "      <td>...</td>\n",
       "      <td>...</td>\n",
       "      <td>...</td>\n",
       "      <td>...</td>\n",
       "      <td>...</td>\n",
       "      <td>...</td>\n",
       "    </tr>\n",
       "    <tr>\n",
       "      <th>122</th>\n",
       "      <td>0.448</td>\n",
       "      <td>6.770</td>\n",
       "      <td>5.7209</td>\n",
       "      <td>233</td>\n",
       "      <td>17.9</td>\n",
       "      <td>385.41</td>\n",
       "      <td>26.6</td>\n",
       "    </tr>\n",
       "    <tr>\n",
       "      <th>123</th>\n",
       "      <td>0.770</td>\n",
       "      <td>6.251</td>\n",
       "      <td>2.2955</td>\n",
       "      <td>666</td>\n",
       "      <td>20.2</td>\n",
       "      <td>350.65</td>\n",
       "      <td>19.9</td>\n",
       "    </tr>\n",
       "    <tr>\n",
       "      <th>124</th>\n",
       "      <td>0.405</td>\n",
       "      <td>6.565</td>\n",
       "      <td>7.3172</td>\n",
       "      <td>293</td>\n",
       "      <td>16.6</td>\n",
       "      <td>371.72</td>\n",
       "      <td>24.8</td>\n",
       "    </tr>\n",
       "    <tr>\n",
       "      <th>125</th>\n",
       "      <td>0.585</td>\n",
       "      <td>6.019</td>\n",
       "      <td>2.4091</td>\n",
       "      <td>391</td>\n",
       "      <td>19.2</td>\n",
       "      <td>396.90</td>\n",
       "      <td>21.2</td>\n",
       "    </tr>\n",
       "    <tr>\n",
       "      <th>126</th>\n",
       "      <td>0.437</td>\n",
       "      <td>6.127</td>\n",
       "      <td>5.5027</td>\n",
       "      <td>289</td>\n",
       "      <td>16.0</td>\n",
       "      <td>396.90</td>\n",
       "      <td>23.9</td>\n",
       "    </tr>\n",
       "  </tbody>\n",
       "</table>\n",
       "<p>127 rows × 7 columns</p>\n",
       "</div>"
      ],
      "text/plain": [
       "       nox     rm     dis  tax  ptratio       b  medv\n",
       "0    0.472  6.849  3.1827  222     18.4  396.90  28.2\n",
       "1    0.484  6.696  5.7321  370     17.6  396.90  23.9\n",
       "2    0.448  6.030  5.6894  233     17.9  392.74  16.6\n",
       "3    0.409  5.878  6.4980  345     18.9  396.21  22.0\n",
       "4    0.770  5.362  2.1036  666     20.2  380.79  20.8\n",
       "..     ...    ...     ...  ...      ...     ...   ...\n",
       "122  0.448  6.770  5.7209  233     17.9  385.41  26.6\n",
       "123  0.770  6.251  2.2955  666     20.2  350.65  19.9\n",
       "124  0.405  6.565  7.3172  293     16.6  371.72  24.8\n",
       "125  0.585  6.019  2.4091  391     19.2  396.90  21.2\n",
       "126  0.437  6.127  5.5027  289     16.0  396.90  23.9\n",
       "\n",
       "[127 rows x 7 columns]"
      ]
     },
     "execution_count": 7,
     "metadata": {},
     "output_type": "execute_result"
    }
   ],
   "source": [
    "# reset index because it was shuffled on split\n",
    "df_test = df_test.reset_index(drop=True)\n",
    "df_test"
   ]
  },
  {
   "cell_type": "code",
   "execution_count": 8,
   "metadata": {},
   "outputs": [
    {
     "data": {
      "text/html": [
       "<div>\n",
       "<style scoped>\n",
       "    .dataframe tbody tr th:only-of-type {\n",
       "        vertical-align: middle;\n",
       "    }\n",
       "\n",
       "    .dataframe tbody tr th {\n",
       "        vertical-align: top;\n",
       "    }\n",
       "\n",
       "    .dataframe thead th {\n",
       "        text-align: right;\n",
       "    }\n",
       "</style>\n",
       "<table border=\"1\" class=\"dataframe\">\n",
       "  <thead>\n",
       "    <tr style=\"text-align: right;\">\n",
       "      <th></th>\n",
       "      <th>nox</th>\n",
       "      <th>rm</th>\n",
       "      <th>dis</th>\n",
       "      <th>tax</th>\n",
       "      <th>ptratio</th>\n",
       "      <th>b</th>\n",
       "    </tr>\n",
       "  </thead>\n",
       "  <tbody>\n",
       "    <tr>\n",
       "      <th>0</th>\n",
       "      <td>0.472</td>\n",
       "      <td>6.849</td>\n",
       "      <td>3.1827</td>\n",
       "      <td>222</td>\n",
       "      <td>18.4</td>\n",
       "      <td>396.90</td>\n",
       "    </tr>\n",
       "    <tr>\n",
       "      <th>1</th>\n",
       "      <td>0.484</td>\n",
       "      <td>6.696</td>\n",
       "      <td>5.7321</td>\n",
       "      <td>370</td>\n",
       "      <td>17.6</td>\n",
       "      <td>396.90</td>\n",
       "    </tr>\n",
       "    <tr>\n",
       "      <th>2</th>\n",
       "      <td>0.448</td>\n",
       "      <td>6.030</td>\n",
       "      <td>5.6894</td>\n",
       "      <td>233</td>\n",
       "      <td>17.9</td>\n",
       "      <td>392.74</td>\n",
       "    </tr>\n",
       "    <tr>\n",
       "      <th>3</th>\n",
       "      <td>0.409</td>\n",
       "      <td>5.878</td>\n",
       "      <td>6.4980</td>\n",
       "      <td>345</td>\n",
       "      <td>18.9</td>\n",
       "      <td>396.21</td>\n",
       "    </tr>\n",
       "    <tr>\n",
       "      <th>4</th>\n",
       "      <td>0.770</td>\n",
       "      <td>5.362</td>\n",
       "      <td>2.1036</td>\n",
       "      <td>666</td>\n",
       "      <td>20.2</td>\n",
       "      <td>380.79</td>\n",
       "    </tr>\n",
       "    <tr>\n",
       "      <th>...</th>\n",
       "      <td>...</td>\n",
       "      <td>...</td>\n",
       "      <td>...</td>\n",
       "      <td>...</td>\n",
       "      <td>...</td>\n",
       "      <td>...</td>\n",
       "    </tr>\n",
       "    <tr>\n",
       "      <th>122</th>\n",
       "      <td>0.448</td>\n",
       "      <td>6.770</td>\n",
       "      <td>5.7209</td>\n",
       "      <td>233</td>\n",
       "      <td>17.9</td>\n",
       "      <td>385.41</td>\n",
       "    </tr>\n",
       "    <tr>\n",
       "      <th>123</th>\n",
       "      <td>0.770</td>\n",
       "      <td>6.251</td>\n",
       "      <td>2.2955</td>\n",
       "      <td>666</td>\n",
       "      <td>20.2</td>\n",
       "      <td>350.65</td>\n",
       "    </tr>\n",
       "    <tr>\n",
       "      <th>124</th>\n",
       "      <td>0.405</td>\n",
       "      <td>6.565</td>\n",
       "      <td>7.3172</td>\n",
       "      <td>293</td>\n",
       "      <td>16.6</td>\n",
       "      <td>371.72</td>\n",
       "    </tr>\n",
       "    <tr>\n",
       "      <th>125</th>\n",
       "      <td>0.585</td>\n",
       "      <td>6.019</td>\n",
       "      <td>2.4091</td>\n",
       "      <td>391</td>\n",
       "      <td>19.2</td>\n",
       "      <td>396.90</td>\n",
       "    </tr>\n",
       "    <tr>\n",
       "      <th>126</th>\n",
       "      <td>0.437</td>\n",
       "      <td>6.127</td>\n",
       "      <td>5.5027</td>\n",
       "      <td>289</td>\n",
       "      <td>16.0</td>\n",
       "      <td>396.90</td>\n",
       "    </tr>\n",
       "  </tbody>\n",
       "</table>\n",
       "<p>127 rows × 6 columns</p>\n",
       "</div>"
      ],
      "text/plain": [
       "       nox     rm     dis  tax  ptratio       b\n",
       "0    0.472  6.849  3.1827  222     18.4  396.90\n",
       "1    0.484  6.696  5.7321  370     17.6  396.90\n",
       "2    0.448  6.030  5.6894  233     17.9  392.74\n",
       "3    0.409  5.878  6.4980  345     18.9  396.21\n",
       "4    0.770  5.362  2.1036  666     20.2  380.79\n",
       "..     ...    ...     ...  ...      ...     ...\n",
       "122  0.448  6.770  5.7209  233     17.9  385.41\n",
       "123  0.770  6.251  2.2955  666     20.2  350.65\n",
       "124  0.405  6.565  7.3172  293     16.6  371.72\n",
       "125  0.585  6.019  2.4091  391     19.2  396.90\n",
       "126  0.437  6.127  5.5027  289     16.0  396.90\n",
       "\n",
       "[127 rows x 6 columns]"
      ]
     },
     "execution_count": 8,
     "metadata": {},
     "output_type": "execute_result"
    }
   ],
   "source": [
    "\n",
    "# get the independent(X) variable for the test dataset\n",
    "X_test = df_test.iloc[:, :-1]\n",
    "X_test"
   ]
  },
  {
   "cell_type": "code",
   "execution_count": 9,
   "metadata": {},
   "outputs": [
    {
     "data": {
      "text/plain": [
       "0      28.2\n",
       "1      23.9\n",
       "2      16.6\n",
       "3      22.0\n",
       "4      20.8\n",
       "       ... \n",
       "122    26.6\n",
       "123    19.9\n",
       "124    24.8\n",
       "125    21.2\n",
       "126    23.9\n",
       "Name: medv, Length: 127, dtype: float64"
      ]
     },
     "execution_count": 9,
     "metadata": {},
     "output_type": "execute_result"
    }
   ],
   "source": [
    "# getting the dependent(y) variable for test dataset\n",
    "\n",
    "y_test = df_test.iloc[:, -1]\n",
    "y_test"
   ]
  },
  {
   "cell_type": "markdown",
   "metadata": {},
   "source": [
    "### Getting the Validation Dataset from the Train Dataset and the Variables for Train and Validation Dataset\n",
    "\n",
    "We want to take the train dataset (which is df_full_train) and split it further into 60% and 20%. We want to get 20% of the df_full_train to assign to validation dataset. To achieve that, we need to know how much is 20% out of 80%, which is, $\\frac{20}{80} = \\frac{1}{4} = 0.25$. Before we proceed to get the split, we need the get the X and y."
   ]
  },
  {
   "cell_type": "code",
   "execution_count": 10,
   "metadata": {},
   "outputs": [],
   "source": [
    "df_train, df_val = train_test_split(df_full_train, test_size=0.4, random_state=1)"
   ]
  },
  {
   "cell_type": "code",
   "execution_count": 11,
   "metadata": {},
   "outputs": [
    {
     "data": {
      "text/plain": [
       "(127, 227, 152, 379)"
      ]
     },
     "execution_count": 11,
     "metadata": {},
     "output_type": "execute_result"
    }
   ],
   "source": [
    "len(df_test), len(df_train), len(df_val), len(df_train) + len(df_val)"
   ]
  },
  {
   "cell_type": "code",
   "execution_count": 12,
   "metadata": {},
   "outputs": [
    {
     "data": {
      "text/html": [
       "<div>\n",
       "<style scoped>\n",
       "    .dataframe tbody tr th:only-of-type {\n",
       "        vertical-align: middle;\n",
       "    }\n",
       "\n",
       "    .dataframe tbody tr th {\n",
       "        vertical-align: top;\n",
       "    }\n",
       "\n",
       "    .dataframe thead th {\n",
       "        text-align: right;\n",
       "    }\n",
       "</style>\n",
       "<table border=\"1\" class=\"dataframe\">\n",
       "  <thead>\n",
       "    <tr style=\"text-align: right;\">\n",
       "      <th></th>\n",
       "      <th>nox</th>\n",
       "      <th>rm</th>\n",
       "      <th>dis</th>\n",
       "      <th>tax</th>\n",
       "      <th>ptratio</th>\n",
       "      <th>b</th>\n",
       "      <th>medv</th>\n",
       "    </tr>\n",
       "  </thead>\n",
       "  <tbody>\n",
       "    <tr>\n",
       "      <th>0</th>\n",
       "      <td>0.4130</td>\n",
       "      <td>5.961</td>\n",
       "      <td>5.2873</td>\n",
       "      <td>305</td>\n",
       "      <td>19.2</td>\n",
       "      <td>376.94</td>\n",
       "      <td>21.7</td>\n",
       "    </tr>\n",
       "    <tr>\n",
       "      <th>1</th>\n",
       "      <td>0.4379</td>\n",
       "      <td>6.031</td>\n",
       "      <td>6.6407</td>\n",
       "      <td>304</td>\n",
       "      <td>16.9</td>\n",
       "      <td>362.25</td>\n",
       "      <td>19.4</td>\n",
       "    </tr>\n",
       "    <tr>\n",
       "      <th>2</th>\n",
       "      <td>0.4310</td>\n",
       "      <td>6.438</td>\n",
       "      <td>7.3967</td>\n",
       "      <td>330</td>\n",
       "      <td>19.1</td>\n",
       "      <td>377.07</td>\n",
       "      <td>24.8</td>\n",
       "    </tr>\n",
       "    <tr>\n",
       "      <th>3</th>\n",
       "      <td>0.7130</td>\n",
       "      <td>6.701</td>\n",
       "      <td>2.5975</td>\n",
       "      <td>666</td>\n",
       "      <td>20.2</td>\n",
       "      <td>255.23</td>\n",
       "      <td>16.4</td>\n",
       "    </tr>\n",
       "    <tr>\n",
       "      <th>4</th>\n",
       "      <td>0.6710</td>\n",
       "      <td>6.223</td>\n",
       "      <td>1.3861</td>\n",
       "      <td>666</td>\n",
       "      <td>20.2</td>\n",
       "      <td>393.74</td>\n",
       "      <td>10.2</td>\n",
       "    </tr>\n",
       "    <tr>\n",
       "      <th>...</th>\n",
       "      <td>...</td>\n",
       "      <td>...</td>\n",
       "      <td>...</td>\n",
       "      <td>...</td>\n",
       "      <td>...</td>\n",
       "      <td>...</td>\n",
       "      <td>...</td>\n",
       "    </tr>\n",
       "    <tr>\n",
       "      <th>222</th>\n",
       "      <td>0.7400</td>\n",
       "      <td>6.406</td>\n",
       "      <td>2.0651</td>\n",
       "      <td>666</td>\n",
       "      <td>20.2</td>\n",
       "      <td>385.96</td>\n",
       "      <td>17.1</td>\n",
       "    </tr>\n",
       "    <tr>\n",
       "      <th>223</th>\n",
       "      <td>0.5380</td>\n",
       "      <td>5.570</td>\n",
       "      <td>3.7979</td>\n",
       "      <td>307</td>\n",
       "      <td>21.0</td>\n",
       "      <td>376.57</td>\n",
       "      <td>13.6</td>\n",
       "    </tr>\n",
       "    <tr>\n",
       "      <th>224</th>\n",
       "      <td>0.6680</td>\n",
       "      <td>5.875</td>\n",
       "      <td>1.1296</td>\n",
       "      <td>666</td>\n",
       "      <td>20.2</td>\n",
       "      <td>347.88</td>\n",
       "      <td>50.0</td>\n",
       "    </tr>\n",
       "    <tr>\n",
       "      <th>225</th>\n",
       "      <td>0.4530</td>\n",
       "      <td>5.741</td>\n",
       "      <td>7.2254</td>\n",
       "      <td>284</td>\n",
       "      <td>19.7</td>\n",
       "      <td>395.11</td>\n",
       "      <td>18.7</td>\n",
       "    </tr>\n",
       "    <tr>\n",
       "      <th>226</th>\n",
       "      <td>0.6140</td>\n",
       "      <td>5.648</td>\n",
       "      <td>1.9512</td>\n",
       "      <td>666</td>\n",
       "      <td>20.2</td>\n",
       "      <td>291.55</td>\n",
       "      <td>20.8</td>\n",
       "    </tr>\n",
       "  </tbody>\n",
       "</table>\n",
       "<p>227 rows × 7 columns</p>\n",
       "</div>"
      ],
      "text/plain": [
       "        nox     rm     dis  tax  ptratio       b  medv\n",
       "0    0.4130  5.961  5.2873  305     19.2  376.94  21.7\n",
       "1    0.4379  6.031  6.6407  304     16.9  362.25  19.4\n",
       "2    0.4310  6.438  7.3967  330     19.1  377.07  24.8\n",
       "3    0.7130  6.701  2.5975  666     20.2  255.23  16.4\n",
       "4    0.6710  6.223  1.3861  666     20.2  393.74  10.2\n",
       "..      ...    ...     ...  ...      ...     ...   ...\n",
       "222  0.7400  6.406  2.0651  666     20.2  385.96  17.1\n",
       "223  0.5380  5.570  3.7979  307     21.0  376.57  13.6\n",
       "224  0.6680  5.875  1.1296  666     20.2  347.88  50.0\n",
       "225  0.4530  5.741  7.2254  284     19.7  395.11  18.7\n",
       "226  0.6140  5.648  1.9512  666     20.2  291.55  20.8\n",
       "\n",
       "[227 rows x 7 columns]"
      ]
     },
     "execution_count": 12,
     "metadata": {},
     "output_type": "execute_result"
    }
   ],
   "source": [
    "# reset index for df_train because it was shuffled on split\n",
    "df_train = df_train.reset_index(drop=True)\n",
    "df_train"
   ]
  },
  {
   "cell_type": "code",
   "execution_count": 13,
   "metadata": {},
   "outputs": [
    {
     "data": {
      "text/html": [
       "<div>\n",
       "<style scoped>\n",
       "    .dataframe tbody tr th:only-of-type {\n",
       "        vertical-align: middle;\n",
       "    }\n",
       "\n",
       "    .dataframe tbody tr th {\n",
       "        vertical-align: top;\n",
       "    }\n",
       "\n",
       "    .dataframe thead th {\n",
       "        text-align: right;\n",
       "    }\n",
       "</style>\n",
       "<table border=\"1\" class=\"dataframe\">\n",
       "  <thead>\n",
       "    <tr style=\"text-align: right;\">\n",
       "      <th></th>\n",
       "      <th>nox</th>\n",
       "      <th>rm</th>\n",
       "      <th>dis</th>\n",
       "      <th>tax</th>\n",
       "      <th>ptratio</th>\n",
       "      <th>b</th>\n",
       "    </tr>\n",
       "  </thead>\n",
       "  <tbody>\n",
       "    <tr>\n",
       "      <th>0</th>\n",
       "      <td>0.4130</td>\n",
       "      <td>5.961</td>\n",
       "      <td>5.2873</td>\n",
       "      <td>305</td>\n",
       "      <td>19.2</td>\n",
       "      <td>376.94</td>\n",
       "    </tr>\n",
       "    <tr>\n",
       "      <th>1</th>\n",
       "      <td>0.4379</td>\n",
       "      <td>6.031</td>\n",
       "      <td>6.6407</td>\n",
       "      <td>304</td>\n",
       "      <td>16.9</td>\n",
       "      <td>362.25</td>\n",
       "    </tr>\n",
       "    <tr>\n",
       "      <th>2</th>\n",
       "      <td>0.4310</td>\n",
       "      <td>6.438</td>\n",
       "      <td>7.3967</td>\n",
       "      <td>330</td>\n",
       "      <td>19.1</td>\n",
       "      <td>377.07</td>\n",
       "    </tr>\n",
       "    <tr>\n",
       "      <th>3</th>\n",
       "      <td>0.7130</td>\n",
       "      <td>6.701</td>\n",
       "      <td>2.5975</td>\n",
       "      <td>666</td>\n",
       "      <td>20.2</td>\n",
       "      <td>255.23</td>\n",
       "    </tr>\n",
       "    <tr>\n",
       "      <th>4</th>\n",
       "      <td>0.6710</td>\n",
       "      <td>6.223</td>\n",
       "      <td>1.3861</td>\n",
       "      <td>666</td>\n",
       "      <td>20.2</td>\n",
       "      <td>393.74</td>\n",
       "    </tr>\n",
       "    <tr>\n",
       "      <th>...</th>\n",
       "      <td>...</td>\n",
       "      <td>...</td>\n",
       "      <td>...</td>\n",
       "      <td>...</td>\n",
       "      <td>...</td>\n",
       "      <td>...</td>\n",
       "    </tr>\n",
       "    <tr>\n",
       "      <th>222</th>\n",
       "      <td>0.7400</td>\n",
       "      <td>6.406</td>\n",
       "      <td>2.0651</td>\n",
       "      <td>666</td>\n",
       "      <td>20.2</td>\n",
       "      <td>385.96</td>\n",
       "    </tr>\n",
       "    <tr>\n",
       "      <th>223</th>\n",
       "      <td>0.5380</td>\n",
       "      <td>5.570</td>\n",
       "      <td>3.7979</td>\n",
       "      <td>307</td>\n",
       "      <td>21.0</td>\n",
       "      <td>376.57</td>\n",
       "    </tr>\n",
       "    <tr>\n",
       "      <th>224</th>\n",
       "      <td>0.6680</td>\n",
       "      <td>5.875</td>\n",
       "      <td>1.1296</td>\n",
       "      <td>666</td>\n",
       "      <td>20.2</td>\n",
       "      <td>347.88</td>\n",
       "    </tr>\n",
       "    <tr>\n",
       "      <th>225</th>\n",
       "      <td>0.4530</td>\n",
       "      <td>5.741</td>\n",
       "      <td>7.2254</td>\n",
       "      <td>284</td>\n",
       "      <td>19.7</td>\n",
       "      <td>395.11</td>\n",
       "    </tr>\n",
       "    <tr>\n",
       "      <th>226</th>\n",
       "      <td>0.6140</td>\n",
       "      <td>5.648</td>\n",
       "      <td>1.9512</td>\n",
       "      <td>666</td>\n",
       "      <td>20.2</td>\n",
       "      <td>291.55</td>\n",
       "    </tr>\n",
       "  </tbody>\n",
       "</table>\n",
       "<p>227 rows × 6 columns</p>\n",
       "</div>"
      ],
      "text/plain": [
       "        nox     rm     dis  tax  ptratio       b\n",
       "0    0.4130  5.961  5.2873  305     19.2  376.94\n",
       "1    0.4379  6.031  6.6407  304     16.9  362.25\n",
       "2    0.4310  6.438  7.3967  330     19.1  377.07\n",
       "3    0.7130  6.701  2.5975  666     20.2  255.23\n",
       "4    0.6710  6.223  1.3861  666     20.2  393.74\n",
       "..      ...    ...     ...  ...      ...     ...\n",
       "222  0.7400  6.406  2.0651  666     20.2  385.96\n",
       "223  0.5380  5.570  3.7979  307     21.0  376.57\n",
       "224  0.6680  5.875  1.1296  666     20.2  347.88\n",
       "225  0.4530  5.741  7.2254  284     19.7  395.11\n",
       "226  0.6140  5.648  1.9512  666     20.2  291.55\n",
       "\n",
       "[227 rows x 6 columns]"
      ]
     },
     "execution_count": 13,
     "metadata": {},
     "output_type": "execute_result"
    }
   ],
   "source": [
    "# get the independent(X) variable for the train dataset\n",
    "X_train = df_train.iloc[:, :-1]\n",
    "X_train"
   ]
  },
  {
   "cell_type": "code",
   "execution_count": 14,
   "metadata": {},
   "outputs": [
    {
     "data": {
      "text/plain": [
       "0      21.7\n",
       "1      19.4\n",
       "2      24.8\n",
       "3      16.4\n",
       "4      10.2\n",
       "       ... \n",
       "222    17.1\n",
       "223    13.6\n",
       "224    50.0\n",
       "225    18.7\n",
       "226    20.8\n",
       "Name: medv, Length: 227, dtype: float64"
      ]
     },
     "execution_count": 14,
     "metadata": {},
     "output_type": "execute_result"
    }
   ],
   "source": [
    "# getting the dependent(y) variable for train dataset\n",
    "\n",
    "y_train = df_train.iloc[:, -1]\n",
    "y_train"
   ]
  },
  {
   "cell_type": "code",
   "execution_count": 15,
   "metadata": {},
   "outputs": [
    {
     "data": {
      "text/html": [
       "<div>\n",
       "<style scoped>\n",
       "    .dataframe tbody tr th:only-of-type {\n",
       "        vertical-align: middle;\n",
       "    }\n",
       "\n",
       "    .dataframe tbody tr th {\n",
       "        vertical-align: top;\n",
       "    }\n",
       "\n",
       "    .dataframe thead th {\n",
       "        text-align: right;\n",
       "    }\n",
       "</style>\n",
       "<table border=\"1\" class=\"dataframe\">\n",
       "  <thead>\n",
       "    <tr style=\"text-align: right;\">\n",
       "      <th></th>\n",
       "      <th>nox</th>\n",
       "      <th>rm</th>\n",
       "      <th>dis</th>\n",
       "      <th>tax</th>\n",
       "      <th>ptratio</th>\n",
       "      <th>b</th>\n",
       "      <th>medv</th>\n",
       "    </tr>\n",
       "  </thead>\n",
       "  <tbody>\n",
       "    <tr>\n",
       "      <th>0</th>\n",
       "      <td>0.597</td>\n",
       "      <td>6.852</td>\n",
       "      <td>1.4655</td>\n",
       "      <td>666</td>\n",
       "      <td>20.2</td>\n",
       "      <td>179.36</td>\n",
       "      <td>27.5</td>\n",
       "    </tr>\n",
       "    <tr>\n",
       "      <th>1</th>\n",
       "      <td>0.770</td>\n",
       "      <td>6.395</td>\n",
       "      <td>2.5052</td>\n",
       "      <td>666</td>\n",
       "      <td>20.2</td>\n",
       "      <td>391.34</td>\n",
       "      <td>21.7</td>\n",
       "    </tr>\n",
       "    <tr>\n",
       "      <th>2</th>\n",
       "      <td>0.624</td>\n",
       "      <td>5.857</td>\n",
       "      <td>1.6686</td>\n",
       "      <td>437</td>\n",
       "      <td>21.2</td>\n",
       "      <td>392.04</td>\n",
       "      <td>13.3</td>\n",
       "    </tr>\n",
       "    <tr>\n",
       "      <th>3</th>\n",
       "      <td>0.544</td>\n",
       "      <td>6.635</td>\n",
       "      <td>3.3175</td>\n",
       "      <td>304</td>\n",
       "      <td>18.4</td>\n",
       "      <td>396.90</td>\n",
       "      <td>22.8</td>\n",
       "    </tr>\n",
       "    <tr>\n",
       "      <th>4</th>\n",
       "      <td>0.447</td>\n",
       "      <td>6.826</td>\n",
       "      <td>4.8628</td>\n",
       "      <td>254</td>\n",
       "      <td>17.6</td>\n",
       "      <td>393.45</td>\n",
       "      <td>33.1</td>\n",
       "    </tr>\n",
       "    <tr>\n",
       "      <th>...</th>\n",
       "      <td>...</td>\n",
       "      <td>...</td>\n",
       "      <td>...</td>\n",
       "      <td>...</td>\n",
       "      <td>...</td>\n",
       "      <td>...</td>\n",
       "      <td>...</td>\n",
       "    </tr>\n",
       "    <tr>\n",
       "      <th>147</th>\n",
       "      <td>0.693</td>\n",
       "      <td>6.343</td>\n",
       "      <td>1.5741</td>\n",
       "      <td>666</td>\n",
       "      <td>20.2</td>\n",
       "      <td>396.90</td>\n",
       "      <td>7.2</td>\n",
       "    </tr>\n",
       "    <tr>\n",
       "      <th>148</th>\n",
       "      <td>0.448</td>\n",
       "      <td>5.399</td>\n",
       "      <td>5.8700</td>\n",
       "      <td>233</td>\n",
       "      <td>17.9</td>\n",
       "      <td>396.90</td>\n",
       "      <td>14.4</td>\n",
       "    </tr>\n",
       "    <tr>\n",
       "      <th>149</th>\n",
       "      <td>0.538</td>\n",
       "      <td>5.713</td>\n",
       "      <td>4.2330</td>\n",
       "      <td>307</td>\n",
       "      <td>21.0</td>\n",
       "      <td>360.17</td>\n",
       "      <td>12.7</td>\n",
       "    </tr>\n",
       "    <tr>\n",
       "      <th>150</th>\n",
       "      <td>0.679</td>\n",
       "      <td>5.957</td>\n",
       "      <td>1.8026</td>\n",
       "      <td>666</td>\n",
       "      <td>20.2</td>\n",
       "      <td>16.45</td>\n",
       "      <td>8.8</td>\n",
       "    </tr>\n",
       "    <tr>\n",
       "      <th>151</th>\n",
       "      <td>0.693</td>\n",
       "      <td>6.193</td>\n",
       "      <td>1.7912</td>\n",
       "      <td>666</td>\n",
       "      <td>20.2</td>\n",
       "      <td>396.90</td>\n",
       "      <td>13.8</td>\n",
       "    </tr>\n",
       "  </tbody>\n",
       "</table>\n",
       "<p>152 rows × 7 columns</p>\n",
       "</div>"
      ],
      "text/plain": [
       "       nox     rm     dis  tax  ptratio       b  medv\n",
       "0    0.597  6.852  1.4655  666     20.2  179.36  27.5\n",
       "1    0.770  6.395  2.5052  666     20.2  391.34  21.7\n",
       "2    0.624  5.857  1.6686  437     21.2  392.04  13.3\n",
       "3    0.544  6.635  3.3175  304     18.4  396.90  22.8\n",
       "4    0.447  6.826  4.8628  254     17.6  393.45  33.1\n",
       "..     ...    ...     ...  ...      ...     ...   ...\n",
       "147  0.693  6.343  1.5741  666     20.2  396.90   7.2\n",
       "148  0.448  5.399  5.8700  233     17.9  396.90  14.4\n",
       "149  0.538  5.713  4.2330  307     21.0  360.17  12.7\n",
       "150  0.679  5.957  1.8026  666     20.2   16.45   8.8\n",
       "151  0.693  6.193  1.7912  666     20.2  396.90  13.8\n",
       "\n",
       "[152 rows x 7 columns]"
      ]
     },
     "execution_count": 15,
     "metadata": {},
     "output_type": "execute_result"
    }
   ],
   "source": [
    "# reset index for the validation dataset because it was shuffled on split\n",
    "df_val = df_val.reset_index(drop=True)\n",
    "df_val"
   ]
  },
  {
   "cell_type": "code",
   "execution_count": 16,
   "metadata": {},
   "outputs": [
    {
     "data": {
      "text/html": [
       "<div>\n",
       "<style scoped>\n",
       "    .dataframe tbody tr th:only-of-type {\n",
       "        vertical-align: middle;\n",
       "    }\n",
       "\n",
       "    .dataframe tbody tr th {\n",
       "        vertical-align: top;\n",
       "    }\n",
       "\n",
       "    .dataframe thead th {\n",
       "        text-align: right;\n",
       "    }\n",
       "</style>\n",
       "<table border=\"1\" class=\"dataframe\">\n",
       "  <thead>\n",
       "    <tr style=\"text-align: right;\">\n",
       "      <th></th>\n",
       "      <th>nox</th>\n",
       "      <th>rm</th>\n",
       "      <th>dis</th>\n",
       "      <th>tax</th>\n",
       "      <th>ptratio</th>\n",
       "      <th>b</th>\n",
       "    </tr>\n",
       "  </thead>\n",
       "  <tbody>\n",
       "    <tr>\n",
       "      <th>0</th>\n",
       "      <td>0.597</td>\n",
       "      <td>6.852</td>\n",
       "      <td>1.4655</td>\n",
       "      <td>666</td>\n",
       "      <td>20.2</td>\n",
       "      <td>179.36</td>\n",
       "    </tr>\n",
       "    <tr>\n",
       "      <th>1</th>\n",
       "      <td>0.770</td>\n",
       "      <td>6.395</td>\n",
       "      <td>2.5052</td>\n",
       "      <td>666</td>\n",
       "      <td>20.2</td>\n",
       "      <td>391.34</td>\n",
       "    </tr>\n",
       "    <tr>\n",
       "      <th>2</th>\n",
       "      <td>0.624</td>\n",
       "      <td>5.857</td>\n",
       "      <td>1.6686</td>\n",
       "      <td>437</td>\n",
       "      <td>21.2</td>\n",
       "      <td>392.04</td>\n",
       "    </tr>\n",
       "    <tr>\n",
       "      <th>3</th>\n",
       "      <td>0.544</td>\n",
       "      <td>6.635</td>\n",
       "      <td>3.3175</td>\n",
       "      <td>304</td>\n",
       "      <td>18.4</td>\n",
       "      <td>396.90</td>\n",
       "    </tr>\n",
       "    <tr>\n",
       "      <th>4</th>\n",
       "      <td>0.447</td>\n",
       "      <td>6.826</td>\n",
       "      <td>4.8628</td>\n",
       "      <td>254</td>\n",
       "      <td>17.6</td>\n",
       "      <td>393.45</td>\n",
       "    </tr>\n",
       "    <tr>\n",
       "      <th>...</th>\n",
       "      <td>...</td>\n",
       "      <td>...</td>\n",
       "      <td>...</td>\n",
       "      <td>...</td>\n",
       "      <td>...</td>\n",
       "      <td>...</td>\n",
       "    </tr>\n",
       "    <tr>\n",
       "      <th>147</th>\n",
       "      <td>0.693</td>\n",
       "      <td>6.343</td>\n",
       "      <td>1.5741</td>\n",
       "      <td>666</td>\n",
       "      <td>20.2</td>\n",
       "      <td>396.90</td>\n",
       "    </tr>\n",
       "    <tr>\n",
       "      <th>148</th>\n",
       "      <td>0.448</td>\n",
       "      <td>5.399</td>\n",
       "      <td>5.8700</td>\n",
       "      <td>233</td>\n",
       "      <td>17.9</td>\n",
       "      <td>396.90</td>\n",
       "    </tr>\n",
       "    <tr>\n",
       "      <th>149</th>\n",
       "      <td>0.538</td>\n",
       "      <td>5.713</td>\n",
       "      <td>4.2330</td>\n",
       "      <td>307</td>\n",
       "      <td>21.0</td>\n",
       "      <td>360.17</td>\n",
       "    </tr>\n",
       "    <tr>\n",
       "      <th>150</th>\n",
       "      <td>0.679</td>\n",
       "      <td>5.957</td>\n",
       "      <td>1.8026</td>\n",
       "      <td>666</td>\n",
       "      <td>20.2</td>\n",
       "      <td>16.45</td>\n",
       "    </tr>\n",
       "    <tr>\n",
       "      <th>151</th>\n",
       "      <td>0.693</td>\n",
       "      <td>6.193</td>\n",
       "      <td>1.7912</td>\n",
       "      <td>666</td>\n",
       "      <td>20.2</td>\n",
       "      <td>396.90</td>\n",
       "    </tr>\n",
       "  </tbody>\n",
       "</table>\n",
       "<p>152 rows × 6 columns</p>\n",
       "</div>"
      ],
      "text/plain": [
       "       nox     rm     dis  tax  ptratio       b\n",
       "0    0.597  6.852  1.4655  666     20.2  179.36\n",
       "1    0.770  6.395  2.5052  666     20.2  391.34\n",
       "2    0.624  5.857  1.6686  437     21.2  392.04\n",
       "3    0.544  6.635  3.3175  304     18.4  396.90\n",
       "4    0.447  6.826  4.8628  254     17.6  393.45\n",
       "..     ...    ...     ...  ...      ...     ...\n",
       "147  0.693  6.343  1.5741  666     20.2  396.90\n",
       "148  0.448  5.399  5.8700  233     17.9  396.90\n",
       "149  0.538  5.713  4.2330  307     21.0  360.17\n",
       "150  0.679  5.957  1.8026  666     20.2   16.45\n",
       "151  0.693  6.193  1.7912  666     20.2  396.90\n",
       "\n",
       "[152 rows x 6 columns]"
      ]
     },
     "execution_count": 16,
     "metadata": {},
     "output_type": "execute_result"
    }
   ],
   "source": [
    "# get the independent(X) variable for the validation dataset\n",
    "X_val = df_val.iloc[:, :-1]\n",
    "X_val"
   ]
  },
  {
   "cell_type": "code",
   "execution_count": 18,
   "metadata": {},
   "outputs": [
    {
     "data": {
      "text/plain": [
       "0      27.5\n",
       "1      21.7\n",
       "2      13.3\n",
       "3      22.8\n",
       "4      33.1\n",
       "       ... \n",
       "147     7.2\n",
       "148    14.4\n",
       "149    12.7\n",
       "150     8.8\n",
       "151    13.8\n",
       "Name: medv, Length: 152, dtype: float64"
      ]
     },
     "execution_count": 18,
     "metadata": {},
     "output_type": "execute_result"
    }
   ],
   "source": [
    "# getting the dependent(y) variable for train dataset\n",
    "\n",
    "y_val = df_val.iloc[:, -1]\n",
    "y_val"
   ]
  },
  {
   "cell_type": "markdown",
   "metadata": {},
   "source": [
    "#### Variable Summary\n",
    "\n",
    "- X_train\n",
    "- y_train\n",
    "- X_val\n",
    "- y_val\n",
    "- X_test\n",
    "- y_test"
   ]
  },
  {
   "cell_type": "markdown",
   "metadata": {},
   "source": [
    "## Standardizing the Dataset\n",
    "We need to standardize our features X because they are calculated to different units and need to be brought to the same scale. Internally, gradient descent is used. The aim is to come to a global minimum, which is achieved through making all our independent(X) unit be in the same scale. This is done using the StandardScaler from sklearn"
   ]
  },
  {
   "cell_type": "code",
   "execution_count": 19,
   "metadata": {},
   "outputs": [],
   "source": [
    "from sklearn.preprocessing import StandardScaler\n",
    "\n",
    "scaler = StandardScaler()"
   ]
  },
  {
   "cell_type": "code",
   "execution_count": 20,
   "metadata": {},
   "outputs": [],
   "source": [
    "X_train = scaler.fit_transform(X_train)\n",
    "# X_val = scaler.fit_transform(X_val)\n",
    "X_val = scaler.transform(X_val)\n",
    "X_test = scaler.transform(X_test)"
   ]
  },
  {
   "cell_type": "markdown",
   "metadata": {},
   "source": [
    "## Model Building"
   ]
  },
  {
   "cell_type": "code",
   "execution_count": 21,
   "metadata": {},
   "outputs": [],
   "source": [
    "from sklearn.linear_model import LinearRegression\n",
    "\n",
    "model = LinearRegression()"
   ]
  },
  {
   "cell_type": "code",
   "execution_count": 22,
   "metadata": {},
   "outputs": [
    {
     "data": {
      "text/html": [
       "<style>#sk-container-id-1 {color: black;}#sk-container-id-1 pre{padding: 0;}#sk-container-id-1 div.sk-toggleable {background-color: white;}#sk-container-id-1 label.sk-toggleable__label {cursor: pointer;display: block;width: 100%;margin-bottom: 0;padding: 0.3em;box-sizing: border-box;text-align: center;}#sk-container-id-1 label.sk-toggleable__label-arrow:before {content: \"▸\";float: left;margin-right: 0.25em;color: #696969;}#sk-container-id-1 label.sk-toggleable__label-arrow:hover:before {color: black;}#sk-container-id-1 div.sk-estimator:hover label.sk-toggleable__label-arrow:before {color: black;}#sk-container-id-1 div.sk-toggleable__content {max-height: 0;max-width: 0;overflow: hidden;text-align: left;background-color: #f0f8ff;}#sk-container-id-1 div.sk-toggleable__content pre {margin: 0.2em;color: black;border-radius: 0.25em;background-color: #f0f8ff;}#sk-container-id-1 input.sk-toggleable__control:checked~div.sk-toggleable__content {max-height: 200px;max-width: 100%;overflow: auto;}#sk-container-id-1 input.sk-toggleable__control:checked~label.sk-toggleable__label-arrow:before {content: \"▾\";}#sk-container-id-1 div.sk-estimator input.sk-toggleable__control:checked~label.sk-toggleable__label {background-color: #d4ebff;}#sk-container-id-1 div.sk-label input.sk-toggleable__control:checked~label.sk-toggleable__label {background-color: #d4ebff;}#sk-container-id-1 input.sk-hidden--visually {border: 0;clip: rect(1px 1px 1px 1px);clip: rect(1px, 1px, 1px, 1px);height: 1px;margin: -1px;overflow: hidden;padding: 0;position: absolute;width: 1px;}#sk-container-id-1 div.sk-estimator {font-family: monospace;background-color: #f0f8ff;border: 1px dotted black;border-radius: 0.25em;box-sizing: border-box;margin-bottom: 0.5em;}#sk-container-id-1 div.sk-estimator:hover {background-color: #d4ebff;}#sk-container-id-1 div.sk-parallel-item::after {content: \"\";width: 100%;border-bottom: 1px solid gray;flex-grow: 1;}#sk-container-id-1 div.sk-label:hover label.sk-toggleable__label {background-color: #d4ebff;}#sk-container-id-1 div.sk-serial::before {content: \"\";position: absolute;border-left: 1px solid gray;box-sizing: border-box;top: 0;bottom: 0;left: 50%;z-index: 0;}#sk-container-id-1 div.sk-serial {display: flex;flex-direction: column;align-items: center;background-color: white;padding-right: 0.2em;padding-left: 0.2em;position: relative;}#sk-container-id-1 div.sk-item {position: relative;z-index: 1;}#sk-container-id-1 div.sk-parallel {display: flex;align-items: stretch;justify-content: center;background-color: white;position: relative;}#sk-container-id-1 div.sk-item::before, #sk-container-id-1 div.sk-parallel-item::before {content: \"\";position: absolute;border-left: 1px solid gray;box-sizing: border-box;top: 0;bottom: 0;left: 50%;z-index: -1;}#sk-container-id-1 div.sk-parallel-item {display: flex;flex-direction: column;z-index: 1;position: relative;background-color: white;}#sk-container-id-1 div.sk-parallel-item:first-child::after {align-self: flex-end;width: 50%;}#sk-container-id-1 div.sk-parallel-item:last-child::after {align-self: flex-start;width: 50%;}#sk-container-id-1 div.sk-parallel-item:only-child::after {width: 0;}#sk-container-id-1 div.sk-dashed-wrapped {border: 1px dashed gray;margin: 0 0.4em 0.5em 0.4em;box-sizing: border-box;padding-bottom: 0.4em;background-color: white;}#sk-container-id-1 div.sk-label label {font-family: monospace;font-weight: bold;display: inline-block;line-height: 1.2em;}#sk-container-id-1 div.sk-label-container {text-align: center;}#sk-container-id-1 div.sk-container {/* jupyter's `normalize.less` sets `[hidden] { display: none; }` but bootstrap.min.css set `[hidden] { display: none !important; }` so we also need the `!important` here to be able to override the default hidden behavior on the sphinx rendered scikit-learn.org. See: https://github.com/scikit-learn/scikit-learn/issues/21755 */display: inline-block !important;position: relative;}#sk-container-id-1 div.sk-text-repr-fallback {display: none;}</style><div id=\"sk-container-id-1\" class=\"sk-top-container\"><div class=\"sk-text-repr-fallback\"><pre>LinearRegression()</pre><b>In a Jupyter environment, please rerun this cell to show the HTML representation or trust the notebook. <br />On GitHub, the HTML representation is unable to render, please try loading this page with nbviewer.org.</b></div><div class=\"sk-container\" hidden><div class=\"sk-item\"><div class=\"sk-estimator sk-toggleable\"><input class=\"sk-toggleable__control sk-hidden--visually\" id=\"sk-estimator-id-1\" type=\"checkbox\" checked><label for=\"sk-estimator-id-1\" class=\"sk-toggleable__label sk-toggleable__label-arrow\">LinearRegression</label><div class=\"sk-toggleable__content\"><pre>LinearRegression()</pre></div></div></div></div></div>"
      ],
      "text/plain": [
       "LinearRegression()"
      ]
     },
     "execution_count": 22,
     "metadata": {},
     "output_type": "execute_result"
    }
   ],
   "source": [
    "# train the model(train)\n",
    "\n",
    "model.fit(X_train, y_train)"
   ]
  },
  {
   "cell_type": "code",
   "execution_count": 23,
   "metadata": {},
   "outputs": [
    {
     "data": {
      "text/plain": [
       "array([-2.72965656,  3.94926335, -1.65390254, -0.56793009, -2.19301401,\n",
       "        1.17340661])"
      ]
     },
     "execution_count": 23,
     "metadata": {},
     "output_type": "execute_result"
    }
   ],
   "source": [
    "## print the coefficients and the intercepts for independent features\n",
    "model.coef_"
   ]
  },
  {
   "cell_type": "code",
   "execution_count": 24,
   "metadata": {},
   "outputs": [
    {
     "data": {
      "text/plain": [
       "21.98810572687225"
      ]
     },
     "execution_count": 24,
     "metadata": {},
     "output_type": "execute_result"
    }
   ],
   "source": [
    "model.intercept_"
   ]
  },
  {
   "cell_type": "markdown",
   "metadata": {},
   "source": [
    "### Interpreting the Coefficient and Intercept\n",
    "\n",
    "From the result gotten from the cell for coefficient, it can be observed that with the increase in the `nox` value, there will be `-3.59432979` decrease in price(`medv`) value and so on for the rest of the features/columns.\n",
    "\n",
    "From the result gotten from the cell for intercept, it can be observed that ....."
   ]
  },
  {
   "cell_type": "code",
   "execution_count": 25,
   "metadata": {},
   "outputs": [
    {
     "data": {
      "text/plain": [
       "{'copy_X': True, 'fit_intercept': True, 'n_jobs': None, 'positive': False}"
      ]
     },
     "execution_count": 25,
     "metadata": {},
     "output_type": "execute_result"
    }
   ],
   "source": [
    "## on which parameters has the model been trained\n",
    "\n",
    "model.get_params()"
   ]
  },
  {
   "cell_type": "code",
   "execution_count": 26,
   "metadata": {},
   "outputs": [
    {
     "data": {
      "text/plain": [
       "array([21.59228157, 16.78961397, 17.42333375, 26.13386576, 29.3115524 ,\n",
       "       14.61191473, 36.24744437, 27.90499453, 24.64571088, 22.5313725 ,\n",
       "       23.34646478, 16.46171716, 18.12477902, 21.15017608, 25.5952401 ,\n",
       "       32.45778506, 25.86489886, 11.44899017, 24.0419412 , 30.0955569 ,\n",
       "       33.02234116, 11.16630525, 10.16875961, 15.1062195 , 17.85534023,\n",
       "       29.50569171, 24.46445722, 22.42687881, 14.9539595 , 19.79925131,\n",
       "       21.60252821, 19.39478976, 20.85587473, 24.81342293, 19.74521741,\n",
       "       32.97655912, 23.36739786, 16.53161106, 17.80977732, 29.99323138,\n",
       "       28.4728091 , 29.97378138, 25.28884857, 19.99592621, 22.4517794 ,\n",
       "       21.92246428, 32.7804042 , 27.06358836, 35.51980938, 32.35718022,\n",
       "       21.01208242, 23.69505289, 23.83008546, 36.65025586, 20.95529597,\n",
       "       16.37204731, 24.52020233, 29.47468838,  4.36956629, 19.47713994,\n",
       "       39.12111613, 36.8011809 , 25.62117727, 16.56924736, 23.5858917 ,\n",
       "       13.21142105, 15.22512022, 15.02483676, 18.92583383, 20.64592757,\n",
       "       19.49856405, 13.46798355, 20.53820971, 13.5264751 , 21.27477764,\n",
       "       18.70900025, 21.23112721, 25.08873746, 31.97645268, 24.11452546,\n",
       "       40.77011056, 22.4371034 , 15.84810751, 16.92446031, 21.07120165,\n",
       "       25.31847419, 29.92519668, 24.72578724, 29.21744447, 18.22836145,\n",
       "       11.55596076, 13.63462892, 30.23809828, 24.34268133, 33.41941201,\n",
       "       21.09856453, 26.68503291, 34.11196583, 21.51722914, 23.40606554,\n",
       "       17.14239854, 22.52129043, 27.25876763, 33.08199833, 21.32423139,\n",
       "       34.0048349 ,  1.70693759, 29.87602675, 21.98357587, 31.56990968,\n",
       "       25.85575857, 24.36676904, 19.75550828, 27.92319153, 13.98776371,\n",
       "       20.58833924, 23.87397227, 28.69993115, 19.48760454, 21.487281  ,\n",
       "       23.82709314, 29.20085728, 26.21055176, 21.18029913, 14.59988606,\n",
       "        2.68458596, 19.20252405, 34.01400952, 30.95601672, 21.21047142,\n",
       "       40.61189508, 34.20909976, 22.024897  , 16.57188712, 14.63898406,\n",
       "       27.45889621, 16.71778096, 20.49730818, 31.03682966, 25.76998701,\n",
       "       18.87773151, 20.0170754 , 22.64075442, 14.93775663, 24.07020001,\n",
       "       24.30504307, 24.73235932, 19.11456969, 19.94359343, 16.80880216,\n",
       "       12.03839403, 18.06667673])"
      ]
     },
     "execution_count": 26,
     "metadata": {},
     "output_type": "execute_result"
    }
   ],
   "source": [
    "## predict with the validation dataset\n",
    "\n",
    "model_val_pred = model.predict(X_val)\n",
    "model_val_pred\n",
    "\n",
    "# the result are our prediction"
   ]
  },
  {
   "cell_type": "code",
   "execution_count": 27,
   "metadata": {},
   "outputs": [
    {
     "data": {
      "text/plain": [
       "array([29.45985234, 26.64986342, 23.71518348, 21.67594649, 10.94236446,\n",
       "       19.82326407, 27.12471649, 19.16640005, 24.64022327, 27.05069988,\n",
       "       23.8400243 , 26.98926505, 21.39787191, 24.43873863, 22.93864449,\n",
       "       15.00956811, 21.15852827, 40.50897896, 27.96478741, 13.60972647,\n",
       "       20.20159391, 14.75511113, 25.49490839, 23.66990713, 27.37419569,\n",
       "       11.48276628, 17.95805424, 20.43604943, 35.78408308, 13.26550723,\n",
       "       22.48331203, 18.14283986, 40.14826984, 16.8639869 , 24.08500378,\n",
       "       20.60170992, 16.5678396 , 28.91008498,  7.01422141, 18.75035008,\n",
       "       25.79840994, 20.60686078, 28.03659826, 18.89640941, 19.35688022,\n",
       "       16.6034173 , 36.17866087, 16.2881226 , 24.10577902, 18.55130388,\n",
       "       23.64284928, 25.98212522, 24.68941366, 26.26775549, 12.53875074,\n",
       "       22.76213132, 15.54003014, 23.67815434, 18.75293562, 37.00689808,\n",
       "       17.67418318, 27.47360815, 15.53959178, 17.23752775, 19.32108545,\n",
       "       30.8862164 , 37.47489618, 26.1250039 , 25.9651649 , 24.57922805,\n",
       "       22.51671993,  9.16592569,  9.27295863, 22.67449818, 21.54101528,\n",
       "       17.46305394, 24.73625516, 28.96164759, 22.2532652 , 30.14771203,\n",
       "       20.7223119 , 23.13899666, 34.0929575 , 15.48625135, 22.11255144,\n",
       "       27.67152523, 17.3779708 , 23.16910957, 19.42532955, 19.89597127,\n",
       "       25.58818976, 42.98038023, 18.63333505, 24.67763551, 13.45124833,\n",
       "       24.14775357, 23.0416708 , 26.92608158, 37.87016202, 21.49287453,\n",
       "       13.53070648, 18.38068827, 24.37888652, 20.39761829, 12.84602055,\n",
       "       24.17727003, 11.61652789, 26.65140849, 25.57385502, 24.87780813,\n",
       "       36.63369222, 28.18504424, 14.35916663, 32.8584998 , 34.82121576,\n",
       "       32.44818014, 20.11628568, 14.72556573, 29.75013113, 41.74259164,\n",
       "       23.1792062 , 15.05730284, 27.9129225 , 15.58409337, 27.51848851,\n",
       "       21.1226764 , 26.65380095])"
      ]
     },
     "execution_count": 27,
     "metadata": {},
     "output_type": "execute_result"
    }
   ],
   "source": [
    "## predict with the test dataset\n",
    "\n",
    "model_test_pred = model.predict(X_test)\n",
    "model_test_pred\n",
    "\n",
    "# the result are our prediction"
   ]
  },
  {
   "cell_type": "markdown",
   "metadata": {},
   "source": [
    "We have predictions from both the test and val datasets. We need to compare it against our y_test and y_val since they hold the true value for price data. This tells us how well our model is performing."
   ]
  },
  {
   "cell_type": "code",
   "execution_count": 28,
   "metadata": {},
   "outputs": [
    {
     "data": {
      "text/plain": [
       "Text(0, 0.5, 'model_val_pred')"
      ]
     },
     "execution_count": 28,
     "metadata": {},
     "output_type": "execute_result"
    },
    {
     "data": {
      "image/png": "[encoded data removed]",
      "text/plain": [
       "<Figure size 640x480 with 1 Axes>"
      ]
     },
     "metadata": {},
     "output_type": "display_data"
    }
   ],
   "source": [
    "## checking to see how our model is working\n",
    "\n",
    "# model_val_pred = model.predict(X_val)[:, 1]\n",
    "# pred_val = (model_val_pred >= 0.5)\n",
    "# (y_val == pred_val).mean() \n",
    "\n",
    "plt.scatter(y_val, model_val_pred)\n",
    "plt.xlabel(\"y_val\")\n",
    "plt.ylabel(\"model_val_pred\")"
   ]
  },
  {
   "cell_type": "code",
   "execution_count": 29,
   "metadata": {},
   "outputs": [
    {
     "data": {
      "text/plain": [
       "Text(0, 0.5, 'model_test_pred')"
      ]
     },
     "execution_count": 29,
     "metadata": {},
     "output_type": "execute_result"
    },
    {
     "data": {
      "image/png": "[encoded data removed]",
      "text/plain": [
       "<Figure size 640x480 with 1 Axes>"
      ]
     },
     "metadata": {},
     "output_type": "display_data"
    }
   ],
   "source": [
    "plt.scatter(y_test, model_test_pred)\n",
    "plt.xlabel(\"y_test\")\n",
    "plt.ylabel(\"model_test_pred\")"
   ]
  },
  {
   "cell_type": "markdown",
   "metadata": {},
   "source": [
    "It is observed from the preceeding cells that our model is performing ok since we have a linear relationship between the prediction and the price value"
   ]
  },
  {
   "cell_type": "code",
   "execution_count": 43,
   "metadata": {},
   "outputs": [
    {
     "name": "stderr",
     "output_type": "stream",
     "text": [
      "c:\\Users\\DELL\\anaconda3\\envs\\boston_house_pricing\\Lib\\site-packages\\seaborn\\_oldcore.py:1119: FutureWarning: use_inf_as_na option is deprecated and will be removed in a future version. Convert inf values to NaN before operating instead.\n",
      "  with pd.option_context('mode.use_inf_as_na', True):\n"
     ]
    },
    {
     "data": {
      "text/plain": [
       "Text(0.5, 9.444444444444438, 'Errors')"
      ]
     },
     "execution_count": 43,
     "metadata": {},
     "output_type": "execute_result"
    },
    {
     "data": {
      "image/png": "[encoded data removed]",
      "text/plain": [
       "<Figure size 500x500 with 1 Axes>"
      ]
     },
     "metadata": {},
     "output_type": "display_data"
    }
   ],
   "source": [
    "# residuals for validation dataset, i.e, errors\n",
    "val_residuals = y_val - model_val_pred\n",
    "\n",
    "# plot the residuals for val dataset\n",
    "sns.displot(val_residuals, bins = 20, kde = True)                  \n",
    "plt.xlabel('Errors', fontsize = 18)"
   ]
  },
  {
   "cell_type": "code",
   "execution_count": 42,
   "metadata": {},
   "outputs": [
    {
     "name": "stderr",
     "output_type": "stream",
     "text": [
      "c:\\Users\\DELL\\anaconda3\\envs\\boston_house_pricing\\Lib\\site-packages\\seaborn\\_oldcore.py:1119: FutureWarning: use_inf_as_na option is deprecated and will be removed in a future version. Convert inf values to NaN before operating instead.\n",
      "  with pd.option_context('mode.use_inf_as_na', True):\n"
     ]
    },
    {
     "data": {
      "text/plain": [
       "Text(0.5, 9.444444444444438, 'Errors')"
      ]
     },
     "execution_count": 42,
     "metadata": {},
     "output_type": "execute_result"
    },
    {
     "data": {
      "image/png": "[encoded data removed]",
      "text/plain": [
       "<Figure size 500x500 with 1 Axes>"
      ]
     },
     "metadata": {},
     "output_type": "display_data"
    }
   ],
   "source": [
    "# residuals for test dataset, i.e, errors\n",
    "test_residuals = y_test - model_test_pred\n",
    "\n",
    "# plot the residuals for test data\n",
    "sns.displot(test_residuals, bins = 20, kde = True)\n",
    "plt.xlabel('Errors', fontsize = 18)"
   ]
  },
  {
   "cell_type": "markdown",
   "metadata": {},
   "source": [
    "We see from the graphs that we have a normal distribution for both the validation and test dataset with some amount of outliers in our `test_residuals`. It shows that our model is doing ok."
   ]
  },
  {
   "cell_type": "markdown",
   "metadata": {},
   "source": [
    "## Model Evaluation\n",
    "\n",
    "It is important to use other performance metrics to really see how our model is doing. For the evaluation metrics using the sklearn library, we will use:\n",
    "\n",
    "- mean_squared_error\n",
    "- mean_absolute_error\n",
    "- R square\n",
    "- adjusted_r_square"
   ]
  },
  {
   "cell_type": "code",
   "execution_count": 44,
   "metadata": {},
   "outputs": [
    {
     "name": "stdout",
     "output_type": "stream",
     "text": [
      "val data\n",
      "3.96416846736549\n",
      "38.830615957407055\n",
      "6.231421664227759\n",
      "\n",
      "test data\n",
      "3.8439963024335695\n",
      "26.887996557258163\n",
      "5.185363686112881\n"
     ]
    }
   ],
   "source": [
    "from sklearn.metrics import mean_squared_error\n",
    "from sklearn.metrics import mean_absolute_error\n",
    "\n",
    "print(\"val data\")\n",
    "print(mean_absolute_error(y_val, model_val_pred))\n",
    "print(mean_squared_error(y_val, model_val_pred))\n",
    "print(np.sqrt(mean_squared_error(y_val, model_val_pred)))\n",
    "print(\"\")\n",
    "\n",
    "\n",
    "print(\"test data\")\n",
    "print(mean_absolute_error(y_test, model_test_pred))\n",
    "print(mean_squared_error(y_test, model_test_pred))\n",
    "print(np.sqrt(mean_squared_error(y_test, model_test_pred)))"
   ]
  },
  {
   "cell_type": "markdown",
   "metadata": {},
   "source": [
    "Describe the result from the preceeding cell"
   ]
  },
  {
   "cell_type": "markdown",
   "metadata": {},
   "source": [
    "### R Square\n",
    "\n",
    "$R^2 = 1 - SSR/SST$\n",
    "\n",
    "where $R^2$ = coefficient of determination SSR = sum of squares of residuals SST = total sum of squares"
   ]
  },
  {
   "cell_type": "code",
   "execution_count": 45,
   "metadata": {},
   "outputs": [
    {
     "data": {
      "text/plain": [
       "0.5860103997506283"
      ]
     },
     "execution_count": 45,
     "metadata": {},
     "output_type": "execute_result"
    }
   ],
   "source": [
    "from sklearn.metrics import r2_score\n",
    "\n",
    "# r2_score for the test dataset\n",
    "score = r2_score(y_val, model_val_pred)\n",
    "score"
   ]
  },
  {
   "cell_type": "code",
   "execution_count": 46,
   "metadata": {},
   "outputs": [
    {
     "data": {
      "text/plain": [
       "0.7285643964440791"
      ]
     },
     "execution_count": 46,
     "metadata": {},
     "output_type": "execute_result"
    }
   ],
   "source": [
    "# r2_score for the test dataset\n",
    "\n",
    "score = r2_score(y_test, model_test_pred)\n",
    "score"
   ]
  },
  {
   "cell_type": "markdown",
   "metadata": {},
   "source": [
    "### Adjusted R Square\n",
    "\n",
    "$R^2 = 1 - [(1-R^2) * (n - 1) / (n - k - 1)]$\n",
    "\n",
    "where $R^2$ = the R^2 of the model n = the number of observations k = the number of predictor variables"
   ]
  },
  {
   "cell_type": "code",
   "execution_count": 47,
   "metadata": {},
   "outputs": [
    {
     "data": {
      "text/plain": [
       "0.717332578365903"
      ]
     },
     "execution_count": 47,
     "metadata": {},
     "output_type": "execute_result"
    }
   ],
   "source": [
    "1 - (1 - score) * (len(y_val) - 1) / (len(y_val) - X_val.shape[1] - 1)"
   ]
  },
  {
   "cell_type": "code",
   "execution_count": 48,
   "metadata": {},
   "outputs": [
    {
     "data": {
      "text/plain": [
       "0.7149926162662831"
      ]
     },
     "execution_count": 48,
     "metadata": {},
     "output_type": "execute_result"
    }
   ],
   "source": [
    "1 - (1 - score) * (len(y_test) - 1) / (len(y_test) - X_test.shape[1] - 1)"
   ]
  },
  {
   "cell_type": "markdown",
   "metadata": {},
   "source": [
    "The adjusted r2_score is less than the r2_score for test data which is the expected behaviour"
   ]
  },
  {
   "cell_type": "markdown",
   "metadata": {},
   "source": [
    "## New Data Prediction\n",
    "\n",
    "We want to take up a new data and predict it using our regression model to see our output. We must transform our data (i.e, standardization) before predicting"
   ]
  },
  {
   "cell_type": "code",
   "execution_count": 49,
   "metadata": {},
   "outputs": [],
   "source": [
    "# to get single data point\n",
    "df.values[0].shape\n",
    "\n",
    "#  training our model made it 2 dimensions so we have to reshape to get the 2 dimension. This is how we give the model for prediction\n",
    "# df.iloc[:, :-1].values[0].reshape(1, -1)\n",
    "# X = df.iloc[:, :-1].values[0].reshape(1, -1)\n",
    "X = df.iloc[:, :-1].values[0].reshape(1, -1)\n"
   ]
  },
  {
   "cell_type": "code",
   "execution_count": 50,
   "metadata": {},
   "outputs": [
    {
     "name": "stderr",
     "output_type": "stream",
     "text": [
      "c:\\Users\\DELL\\anaconda3\\envs\\boston_house_pricing\\Lib\\site-packages\\sklearn\\base.py:464: UserWarning: X does not have valid feature names, but StandardScaler was fitted with feature names\n",
      "  warnings.warn(\n"
     ]
    },
    {
     "data": {
      "text/plain": [
       "array([28.7579669])"
      ]
     },
     "execution_count": 50,
     "metadata": {},
     "output_type": "execute_result"
    }
   ],
   "source": [
    "# scale before predict\n",
    "model.predict(scaler.transform(X))\n",
    "# X_train"
   ]
  },
  {
   "cell_type": "code",
   "execution_count": 51,
   "metadata": {},
   "outputs": [
    {
     "data": {
      "text/html": [
       "<div>\n",
       "<style scoped>\n",
       "    .dataframe tbody tr th:only-of-type {\n",
       "        vertical-align: middle;\n",
       "    }\n",
       "\n",
       "    .dataframe tbody tr th {\n",
       "        vertical-align: top;\n",
       "    }\n",
       "\n",
       "    .dataframe thead th {\n",
       "        text-align: right;\n",
       "    }\n",
       "</style>\n",
       "<table border=\"1\" class=\"dataframe\">\n",
       "  <thead>\n",
       "    <tr style=\"text-align: right;\">\n",
       "      <th></th>\n",
       "      <th>nox</th>\n",
       "      <th>rm</th>\n",
       "      <th>dis</th>\n",
       "      <th>tax</th>\n",
       "      <th>ptratio</th>\n",
       "      <th>b</th>\n",
       "      <th>medv</th>\n",
       "    </tr>\n",
       "  </thead>\n",
       "  <tbody>\n",
       "    <tr>\n",
       "      <th>0</th>\n",
       "      <td>0.538</td>\n",
       "      <td>6.575</td>\n",
       "      <td>4.09</td>\n",
       "      <td>296</td>\n",
       "      <td>15.3</td>\n",
       "      <td>396.9</td>\n",
       "      <td>24.0</td>\n",
       "    </tr>\n",
       "  </tbody>\n",
       "</table>\n",
       "</div>"
      ],
      "text/plain": [
       "     nox     rm   dis  tax  ptratio      b  medv\n",
       "0  0.538  6.575  4.09  296     15.3  396.9  24.0"
      ]
     },
     "execution_count": 51,
     "metadata": {},
     "output_type": "execute_result"
    }
   ],
   "source": [
    "# cross-checking the prediction\n",
    "\n",
    "df.head(1)"
   ]
  },
  {
   "cell_type": "markdown",
   "metadata": {},
   "source": [
    "Pickling the Model File for Deployment\n",
    "\n",
    "We have to pickle the regression model"
   ]
  },
  {
   "cell_type": "code",
   "execution_count": null,
   "metadata": {},
   "outputs": [],
   "source": [
    "import pickle"
   ]
  },
  {
   "cell_type": "code",
   "execution_count": null,
   "metadata": {},
   "outputs": [],
   "source": [
    "# dump into a file\n",
    "\n",
    "pickle.dump(model, open(\"regmodel.pkl\", \"wb\"))"
   ]
  },
  {
   "cell_type": "code",
   "execution_count": null,
   "metadata": {},
   "outputs": [],
   "source": [
    "# load pickle file\n",
    "\n",
    "pickled_model = pickle.load(open(\"regmodel.pkl\", \"rb\"))"
   ]
  },
  {
   "cell_type": "code",
   "execution_count": null,
   "metadata": {},
   "outputs": [],
   "source": [
    "# use the pickled file to make prediction. it can be saved on local storage or cloud\n",
    "\n",
    "pickled_model.predict(scaler.transform(X))"
   ]
  }
 ],
 "metadata": {
  "kernelspec": {
   "display_name": "boston_house_pricing",
   "language": "python",
   "name": "python3"
  },
  "language_info": {
   "codemirror_mode": {
    "name": "ipython",
    "version": 3
   },
   "file_extension": ".py",
   "mimetype": "text/x-python",
   "name": "python",
   "nbconvert_exporter": "python",
   "pygments_lexer": "ipython3",
   "version": "3.12.0"
  }
 },
 "nbformat": 4,
 "nbformat_minor": 2
}
