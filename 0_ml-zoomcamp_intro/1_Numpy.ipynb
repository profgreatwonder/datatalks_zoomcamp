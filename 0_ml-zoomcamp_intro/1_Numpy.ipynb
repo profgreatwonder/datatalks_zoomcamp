{
 "cells": [
  {
   "cell_type": "markdown",
   "id": "09e558fd",
   "metadata": {},
   "source": [
    "# Numpy"
   ]
  },
  {
   "cell_type": "code",
   "execution_count": 2,
   "id": "bc42e7cf",
   "metadata": {},
   "outputs": [],
   "source": [
    "import numpy as np"
   ]
  },
  {
   "cell_type": "markdown",
   "id": "285f0428",
   "metadata": {},
   "source": [
    "### Creating Arrays with Zeros, Ones, or Constants\n",
    "You can create arrays filled with zeros, ones, or any constant using np.zeros(), np.ones(), and np.full():"
   ]
  },
  {
   "cell_type": "code",
   "execution_count": 6,
   "id": "7c1a74d8",
   "metadata": {},
   "outputs": [
    {
     "data": {
      "text/plain": [
       "array([0., 0., 0., 0., 0., 0., 0., 0., 0., 0.])"
      ]
     },
     "execution_count": 6,
     "metadata": {},
     "output_type": "execute_result"
    }
   ],
   "source": [
    "zeros_array = np.zeros(10)\n",
    "zeros_array"
   ]
  },
  {
   "cell_type": "code",
   "execution_count": 7,
   "id": "06564d8f",
   "metadata": {},
   "outputs": [
    {
     "data": {
      "text/plain": [
       "array([1., 1., 1., 1., 1., 1., 1., 1., 1., 1.])"
      ]
     },
     "execution_count": 7,
     "metadata": {},
     "output_type": "execute_result"
    }
   ],
   "source": [
    "ones_array = np.ones(10)\n",
    "ones_array"
   ]
  },
  {
   "cell_type": "code",
   "execution_count": 9,
   "id": "726332a6",
   "metadata": {},
   "outputs": [
    {
     "data": {
      "text/plain": [
       "array([3, 3, 3, 3, 3, 3, 3, 3, 3, 3])"
      ]
     },
     "execution_count": 9,
     "metadata": {},
     "output_type": "execute_result"
    }
   ],
   "source": [
    "constant_array = np.full(10, 3)\n",
    "constant_array"
   ]
  },
  {
   "cell_type": "markdown",
   "id": "2ce7512e",
   "metadata": {},
   "source": [
    "### Converting Lists to Arrays\n",
    "To convert a Python list into a Numpy array, you can use np.array()"
   ]
  },
  {
   "cell_type": "code",
   "execution_count": 11,
   "id": "41610f8a",
   "metadata": {},
   "outputs": [
    {
     "data": {
      "text/plain": [
       "array([2, 3, 4])"
      ]
     },
     "execution_count": 11,
     "metadata": {},
     "output_type": "execute_result"
    }
   ],
   "source": [
    "my_list = [2, 3, 4]\n",
    "numpy_array = np.array(my_list)\n",
    "numpy_array"
   ]
  },
  {
   "cell_type": "markdown",
   "id": "9f38eae7",
   "metadata": {},
   "source": [
    "### Generating Ranges of Numbers\n",
    "Numpy provides functions for generating arrays of sequential numbers. "
   ]
  },
  {
   "cell_type": "code",
   "execution_count": 12,
   "id": "fab59191",
   "metadata": {},
   "outputs": [
    {
     "data": {
      "text/plain": [
       "array([0, 1, 2, 3, 4, 5, 6, 7, 8, 9])"
      ]
     },
     "execution_count": 12,
     "metadata": {},
     "output_type": "execute_result"
    }
   ],
   "source": [
    "range_array = np.arange(10)\n",
    "range_array"
   ]
  },
  {
   "cell_type": "code",
   "execution_count": 37,
   "id": "b8301875",
   "metadata": {},
   "outputs": [
    {
     "data": {
      "text/plain": [
       "array([4, 5, 6, 7, 8, 9])"
      ]
     },
     "execution_count": 37,
     "metadata": {},
     "output_type": "execute_result"
    }
   ],
   "source": [
    "range_array = np.arange(4, 10)\n",
    "range_array"
   ]
  },
  {
   "cell_type": "markdown",
   "id": "fe908c44",
   "metadata": {},
   "source": [
    "### Creating Arrays with Linear Spacing\n",
    "np.linspace() creates arrays with evenly spaced numbers within a specified range"
   ]
  },
  {
   "cell_type": "code",
   "execution_count": 41,
   "id": "b8e16667",
   "metadata": {},
   "outputs": [
    {
     "data": {
      "text/plain": [
       "array([0. , 0.1, 0.2, 0.3, 0.4, 0.5, 0.6, 0.7, 0.8, 0.9, 1. ])"
      ]
     },
     "execution_count": 41,
     "metadata": {},
     "output_type": "execute_result"
    }
   ],
   "source": [
    "# Creates 11 numbers from 0 to 1\n",
    "linspace_array = np.linspace(0, 1, 11)  \n",
    "linspace_array"
   ]
  },
  {
   "cell_type": "markdown",
   "id": "58d25bf5",
   "metadata": {},
   "source": [
    "## Multi-dimensional Arrays\n",
    "Numpy can handle multi-dimensional arrays, often referred to as matrices. Here are some examples:"
   ]
  },
  {
   "cell_type": "code",
   "execution_count": 3,
   "id": "8e9c3ec6",
   "metadata": {},
   "outputs": [
    {
     "data": {
      "text/plain": [
       "array([[0., 0.],\n",
       "       [0., 0.],\n",
       "       [0., 0.],\n",
       "       [0., 0.],\n",
       "       [0., 0.]])"
      ]
     },
     "execution_count": 3,
     "metadata": {},
     "output_type": "execute_result"
    }
   ],
   "source": [
    "zero_matrix = np.zeros((5, 2))\n",
    "zero_matrix"
   ]
  },
  {
   "cell_type": "code",
   "execution_count": 4,
   "id": "1631d1c5",
   "metadata": {},
   "outputs": [
    {
     "data": {
      "text/plain": [
       "array([[1., 1.],\n",
       "       [1., 1.],\n",
       "       [1., 1.],\n",
       "       [1., 1.],\n",
       "       [1., 1.]])"
      ]
     },
     "execution_count": 4,
     "metadata": {},
     "output_type": "execute_result"
    }
   ],
   "source": [
    "ones_matrix = np.ones((5, 2))\n",
    "ones_matrix"
   ]
  },
  {
   "cell_type": "code",
   "execution_count": 5,
   "id": "31fb8ce5",
   "metadata": {},
   "outputs": [
    {
     "data": {
      "text/plain": [
       "array([[3, 3],\n",
       "       [3, 3],\n",
       "       [3, 3],\n",
       "       [3, 3],\n",
       "       [3, 3]])"
      ]
     },
     "execution_count": 5,
     "metadata": {},
     "output_type": "execute_result"
    }
   ],
   "source": [
    "constant_matrix = np.full((5, 2), 3)\n",
    "constant_matrix"
   ]
  },
  {
   "cell_type": "markdown",
   "id": "6e13307d",
   "metadata": {},
   "source": [
    "## Indexing and Slicing Arrays\n",
    "Like Python lists, you can access elements in Numpy arrays using indexing and slicing. For two-dimensional arrays:"
   ]
  },
  {
   "cell_type": "code",
   "execution_count": 8,
   "id": "26aee266",
   "metadata": {},
   "outputs": [
    {
     "data": {
      "text/plain": [
       "array([[2, 3, 4],\n",
       "       [4, 5, 6]])"
      ]
     },
     "execution_count": 8,
     "metadata": {},
     "output_type": "execute_result"
    }
   ],
   "source": [
    "arr = np.array([[2, 3, 4], [4, 5, 6]])\n",
    "first_row = arr[0] # Gets the first row\n",
    "arr"
   ]
  },
  {
   "cell_type": "code",
   "execution_count": 9,
   "id": "6c512531",
   "metadata": {},
   "outputs": [
    {
     "data": {
      "text/plain": [
       "array([2, 3, 4])"
      ]
     },
     "execution_count": 9,
     "metadata": {},
     "output_type": "execute_result"
    }
   ],
   "source": [
    "first_row"
   ]
  },
  {
   "cell_type": "code",
   "execution_count": 10,
   "id": "1de92978",
   "metadata": {},
   "outputs": [
    {
     "data": {
      "text/plain": [
       "array([2, 4])"
      ]
     },
     "execution_count": 10,
     "metadata": {},
     "output_type": "execute_result"
    }
   ],
   "source": [
    "first_col = arr[:, 0]\n",
    "first_col # Gets the first column"
   ]
  },
  {
   "cell_type": "markdown",
   "id": "9ec1115f",
   "metadata": {},
   "source": [
    "## Generating Random Arrays\n",
    "Numpy can create arrays filled with random numbers. To ensure reproducibility, you can set a seed using np.random.seed():"
   ]
  },
  {
   "cell_type": "code",
   "execution_count": 53,
   "id": "2f354569",
   "metadata": {},
   "outputs": [
    {
     "data": {
      "text/plain": [
       "array([[43.59949021,  2.59262318],\n",
       "       [54.96624779, 43.53223926],\n",
       "       [42.03678021, 33.0334821 ],\n",
       "       [20.4648634 , 61.92709664],\n",
       "       [29.96546737, 26.68272751]])"
      ]
     },
     "execution_count": 53,
     "metadata": {},
     "output_type": "execute_result"
    }
   ],
   "source": [
    "# Set the seed so that the random number generated remains \n",
    "# the same no matter what\n",
    "np.random.seed(2) \n",
    "\n",
    "# Generates random numbers between 0 and 1\n",
    "# random_arr = np.random.rand(5, 2) \n",
    "\n",
    "# Generates random numbers between 0 and 100: in this case, \n",
    "# each number generated(which remains the same everytime we run)\n",
    "# is multiplied by 100\n",
    "random_arr = 100 * np.random.rand(5, 2) \n",
    "random_arr"
   ]
  },
  {
   "cell_type": "markdown",
   "id": "a51b21f4",
   "metadata": {},
   "source": [
    "For random numbers from a normal distribution or integers within a range:"
   ]
  },
  {
   "cell_type": "code",
   "execution_count": 20,
   "id": "0c84321c",
   "metadata": {},
   "outputs": [
    {
     "data": {
      "text/plain": [
       "array([[ 0.55145404,  2.29220801],\n",
       "       [ 0.04153939, -1.11792545],\n",
       "       [ 0.53905832, -0.5961597 ],\n",
       "       [-0.0191305 ,  1.17500122],\n",
       "       [-0.74787095,  0.00902525]])"
      ]
     },
     "execution_count": 20,
     "metadata": {},
     "output_type": "execute_result"
    }
   ],
   "source": [
    "normal_distribution = np.random.randn(5, 2)\n",
    "normal_distribution"
   ]
  },
  {
   "cell_type": "code",
   "execution_count": 54,
   "id": "1b5ef331",
   "metadata": {},
   "outputs": [
    {
     "data": {
      "text/plain": [
       "array([[37, 39],\n",
       "       [67,  4],\n",
       "       [42, 51],\n",
       "       [38, 33],\n",
       "       [58, 67]])"
      ]
     },
     "execution_count": 54,
     "metadata": {},
     "output_type": "execute_result"
    }
   ],
   "source": [
    "# the code below is from 0 - 100 with 5 rows and 2 columns\n",
    "random_integers = np.random.randint(low=0, high=100, size=(5,2))\n",
    "random_integers"
   ]
  },
  {
   "cell_type": "markdown",
   "id": "91492468",
   "metadata": {},
   "source": [
    "## Array Operations\n",
    "Numpy excels in performing mathematical operations on arrays efficiently.\n",
    "\n",
    "### Element-wise Operations\n",
    "You can perform operations on entire arrays element by element:"
   ]
  },
  {
   "cell_type": "code",
   "execution_count": 23,
   "id": "32b7cf14",
   "metadata": {},
   "outputs": [
    {
     "data": {
      "text/plain": [
       "array([[3, 4, 5],\n",
       "       [5, 6, 7]])"
      ]
     },
     "execution_count": 23,
     "metadata": {},
     "output_type": "execute_result"
    }
   ],
   "source": [
    "arr = arr + 1   # Adds 1 to each element\n",
    "arr"
   ]
  },
  {
   "cell_type": "code",
   "execution_count": 25,
   "id": "a68ff875",
   "metadata": {},
   "outputs": [
    {
     "data": {
      "text/plain": [
       "array([[12, 16, 20],\n",
       "       [20, 24, 28]])"
      ]
     },
     "execution_count": 25,
     "metadata": {},
     "output_type": "execute_result"
    }
   ],
   "source": [
    "arr = arr * 2   # Multiplies each element by 2\n",
    "arr\n",
    "# Similar operations for division and exponentiation"
   ]
  },
  {
   "cell_type": "code",
   "execution_count": 56,
   "id": "e208f4bc",
   "metadata": {},
   "outputs": [
    {
     "data": {
      "text/plain": [
       "array([12, 14, 16, 18])"
      ]
     },
     "execution_count": 56,
     "metadata": {},
     "output_type": "execute_result"
    }
   ],
   "source": [
    "10 + (arr * 2) # we can chain multiple calculation for a numpy array"
   ]
  },
  {
   "cell_type": "code",
   "execution_count": 57,
   "id": "7379829c",
   "metadata": {},
   "outputs": [
    {
     "data": {
      "text/plain": [
       "array([144, 196, 256, 324])"
      ]
     },
     "execution_count": 57,
     "metadata": {},
     "output_type": "execute_result"
    }
   ],
   "source": [
    "(10 + (arr * 2)) ** 2"
   ]
  },
  {
   "cell_type": "code",
   "execution_count": 58,
   "id": "a29516f1",
   "metadata": {},
   "outputs": [
    {
     "data": {
      "text/plain": [
       "array([1.44, 1.96, 2.56, 3.24])"
      ]
     },
     "execution_count": 58,
     "metadata": {},
     "output_type": "execute_result"
    }
   ],
   "source": [
    "(10 + (arr * 2)) ** 2 / 100"
   ]
  },
  {
   "cell_type": "markdown",
   "id": "b493472f",
   "metadata": {},
   "source": [
    "## Element-wise Operations with Two Arrays\n",
    "You can also perform operations between two arrays of the same shape:"
   ]
  },
  {
   "cell_type": "code",
   "execution_count": 26,
   "id": "0103a62e",
   "metadata": {},
   "outputs": [
    {
     "data": {
      "text/plain": [
       "array([4., 4., 4., 4.])"
      ]
     },
     "execution_count": 26,
     "metadata": {},
     "output_type": "execute_result"
    }
   ],
   "source": [
    "arr1 = np.ones(4)\n",
    "arr2 = np.full(4, 3)\n",
    "result = arr1 + arr2  # Element-wise addition\n",
    "result"
   ]
  },
  {
   "cell_type": "code",
   "execution_count": 27,
   "id": "0c2162ac",
   "metadata": {},
   "outputs": [
    {
     "data": {
      "text/plain": [
       "array([0.33333333, 0.33333333, 0.33333333, 0.33333333])"
      ]
     },
     "execution_count": 27,
     "metadata": {},
     "output_type": "execute_result"
    }
   ],
   "source": [
    "result = arr1 / arr2  # Element-wise division\n",
    "result"
   ]
  },
  {
   "cell_type": "markdown",
   "id": "8329737b",
   "metadata": {},
   "source": [
    "## Comparison Operations\n",
    "You can perform element-wise comparisons and create boolean arrays:"
   ]
  },
  {
   "cell_type": "code",
   "execution_count": 28,
   "id": "cd58ed55",
   "metadata": {},
   "outputs": [
    {
     "data": {
      "text/plain": [
       "array([1, 2, 3, 4])"
      ]
     },
     "execution_count": 28,
     "metadata": {},
     "output_type": "execute_result"
    }
   ],
   "source": [
    "arr = np.array([1, 2, 3, 4])\n",
    "arr"
   ]
  },
  {
   "cell_type": "code",
   "execution_count": 29,
   "id": "7cd98671",
   "metadata": {},
   "outputs": [
    {
     "data": {
      "text/plain": [
       "array([False, False,  True,  True])"
      ]
     },
     "execution_count": 29,
     "metadata": {},
     "output_type": "execute_result"
    }
   ],
   "source": [
    "greater_than_2 = arr > 2  # Produces [False, False, True, True]\n",
    "greater_than_2"
   ]
  },
  {
   "cell_type": "markdown",
   "id": "7c195f1a",
   "metadata": {},
   "source": [
    "## Selecting Elements Based on Conditions\n",
    "You can create subarrays based on certain conditions:"
   ]
  },
  {
   "cell_type": "code",
   "execution_count": 30,
   "id": "62d10e43",
   "metadata": {},
   "outputs": [
    {
     "data": {
      "text/plain": [
       "array([2, 3, 4])"
      ]
     },
     "execution_count": 30,
     "metadata": {},
     "output_type": "execute_result"
    }
   ],
   "source": [
    "selected_elements = arr[arr > 1]  # Gets elements greater than 1\n",
    "selected_elements"
   ]
  },
  {
   "cell_type": "code",
   "execution_count": 31,
   "id": "9537b5ea",
   "metadata": {},
   "outputs": [
    {
     "data": {
      "text/plain": [
       "1"
      ]
     },
     "execution_count": 31,
     "metadata": {},
     "output_type": "execute_result"
    }
   ],
   "source": [
    "min_value = arr.min()    # Minimum value\n",
    "min_value"
   ]
  },
  {
   "cell_type": "code",
   "execution_count": 32,
   "id": "4f27015c",
   "metadata": {},
   "outputs": [
    {
     "data": {
      "text/plain": [
       "4"
      ]
     },
     "execution_count": 32,
     "metadata": {},
     "output_type": "execute_result"
    }
   ],
   "source": [
    "max_value = arr.max()    # Maximum value\n",
    "max_value"
   ]
  },
  {
   "cell_type": "code",
   "execution_count": 33,
   "id": "764e580b",
   "metadata": {},
   "outputs": [
    {
     "data": {
      "text/plain": [
       "10"
      ]
     },
     "execution_count": 33,
     "metadata": {},
     "output_type": "execute_result"
    }
   ],
   "source": [
    "sum_value = arr.sum()    # Sum of all elements\n",
    "sum_value"
   ]
  },
  {
   "cell_type": "code",
   "execution_count": 35,
   "id": "d059135d",
   "metadata": {},
   "outputs": [
    {
     "data": {
      "text/plain": [
       "2.5"
      ]
     },
     "execution_count": 35,
     "metadata": {},
     "output_type": "execute_result"
    }
   ],
   "source": [
    "mean_value = arr.mean()  # Mean (average) value\n",
    "mean_value"
   ]
  },
  {
   "cell_type": "code",
   "execution_count": 36,
   "id": "d50b74a7",
   "metadata": {},
   "outputs": [
    {
     "data": {
      "text/plain": [
       "1.118033988749895"
      ]
     },
     "execution_count": 36,
     "metadata": {},
     "output_type": "execute_result"
    }
   ],
   "source": [
    "std_deviation = arr.std()  # Standard deviation\n",
    "std_deviation"
   ]
  },
  {
   "cell_type": "markdown",
   "id": "f26e67e4",
   "metadata": {},
   "source": [
    "In conclusion, Numpy is an essential library for anyone working with numerical data in Python. It simplifies array creation, manipulation, and mathematical operations, making it a powerful tool for scientific computing and data analysis. With the basics covered in this article, you're well on your way to harnessing Numpy's capabilities."
   ]
  }
 ],
 "metadata": {
  "kernelspec": {
   "display_name": "Python 3 (ipykernel)",
   "language": "python",
   "name": "python3"
  },
  "language_info": {
   "codemirror_mode": {
    "name": "ipython",
    "version": 3
   },
   "file_extension": ".py",
   "mimetype": "text/x-python",
   "name": "python",
   "nbconvert_exporter": "python",
   "pygments_lexer": "ipython3",
   "version": "3.11.5"
  }
 },
 "nbformat": 4,
 "nbformat_minor": 5
}
