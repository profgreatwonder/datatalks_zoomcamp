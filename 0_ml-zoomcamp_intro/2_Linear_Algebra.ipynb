{
 "cells": [
  {
   "cell_type": "markdown",
   "id": "7b40e9d6",
   "metadata": {},
   "source": [
    "# Linear Algebra Refresher\n"
   ]
  },
  {
   "cell_type": "markdown",
   "id": "a4aafe00",
   "metadata": {},
   "source": [
    "- Vector operations\n",
    "- Multiplication\n",
    "    - Vector-vector multiplication\n",
    "    - Matrix-vector multiplication\n",
    "    - Matrix-matrix multiplication\n",
    "- Identity matrix\n",
    "- Inverse"
   ]
  },
  {
   "cell_type": "code",
   "execution_count": 3,
   "id": "73e0749c",
   "metadata": {},
   "outputs": [],
   "source": [
    "import numpy as np"
   ]
  },
  {
   "cell_type": "code",
   "execution_count": 66,
   "id": "280fae4b",
   "metadata": {
    "scrolled": true
   },
   "outputs": [],
   "source": [
    "u = np.array([2, 4, 5, 6])\n",
    "v = np.array([1, 0, 0, 2])"
   ]
  },
  {
   "cell_type": "markdown",
   "id": "e6d7b042",
   "metadata": {},
   "source": [
    "## Vector Operations"
   ]
  },
  {
   "cell_type": "code",
   "execution_count": 47,
   "id": "371dd729",
   "metadata": {},
   "outputs": [
    {
     "data": {
      "text/plain": [
       "array([3, 4, 5, 8])"
      ]
     },
     "execution_count": 47,
     "metadata": {},
     "output_type": "execute_result"
    }
   ],
   "source": [
    "# addition\n",
    "u + v"
   ]
  },
  {
   "cell_type": "code",
   "execution_count": 48,
   "id": "828b4fa4",
   "metadata": {},
   "outputs": [
    {
     "data": {
      "text/plain": [
       "array([1, 4, 5, 4])"
      ]
     },
     "execution_count": 48,
     "metadata": {},
     "output_type": "execute_result"
    }
   ],
   "source": [
    "# subtraction\n",
    "u - v"
   ]
  },
  {
   "cell_type": "code",
   "execution_count": 49,
   "id": "0b8f3a55",
   "metadata": {},
   "outputs": [
    {
     "data": {
      "text/plain": [
       "array([2, 0, 0, 4])"
      ]
     },
     "execution_count": 49,
     "metadata": {},
     "output_type": "execute_result"
    }
   ],
   "source": [
    "# scalar multiplication\n",
    "2 * v"
   ]
  },
  {
   "cell_type": "markdown",
   "id": "57ad6110",
   "metadata": {},
   "source": [
    "## Multiplication"
   ]
  },
  {
   "cell_type": "markdown",
   "id": "7c70eb2d",
   "metadata": {},
   "source": [
    "\n",
    "### Vector-Vector multiplication"
   ]
  },
  {
   "cell_type": "markdown",
   "id": "166010c6",
   "metadata": {},
   "source": [
    "$$\\sum\\limits_{\\substack{i=1 \\\\ 5}}$$\n",
    "\n",
    "$$\\overset{5}{\\sum}$$\n",
    "\n",
    "The subscripted expression: $$A_{ui}$$\n",
    "\n",
    "The superscripted expression: $$A^{ui}$$\n",
    "\n",
    "The expression with an equal sign in the superscript: $$A^{=ui}$$\n",
    "\n",
    "$$\\sum_{i=1}^n a_i = b$$\n",
    "\n"
   ]
  },
  {
   "cell_type": "markdown",
   "id": "fa42b6b2",
   "metadata": {},
   "source": [
    "$$\\overset{n}{\\sum}\\limits_{\\substack{i=1}}u_{i} v_{i}$$\n",
    "\n",
    "The above was written - **\\overset{n}{\\sum}\\limits_{\\substack{i=1}}u_{i} v_{i}** in between 2 **$$** sign. \n",
    "\n",
    "The expression is for a vector-vector(dot product) calculation. it means that we have a sum - $$\\sum\\$$\n",
    "\n",
    "that goes over all elements of our vectors which goes from **1 till n** where **n** is the dimension of the vector then we multiply each element of u with each element of v\n"
   ]
  },
  {
   "cell_type": "code",
   "execution_count": 50,
   "id": "d48b0973",
   "metadata": {},
   "outputs": [
    {
     "data": {
      "text/plain": [
       "4"
      ]
     },
     "execution_count": 50,
     "metadata": {},
     "output_type": "execute_result"
    }
   ],
   "source": [
    "# u.shape # this gives us the shape\n",
    "u.shape[0] # this gives us the number"
   ]
  },
  {
   "cell_type": "code",
   "execution_count": 51,
   "id": "620f6a45",
   "metadata": {},
   "outputs": [
    {
     "data": {
      "text/plain": [
       "4"
      ]
     },
     "execution_count": 51,
     "metadata": {},
     "output_type": "execute_result"
    }
   ],
   "source": [
    "# v.shape # this gives us the shape\n",
    "u.shape[0] # this gives us the number"
   ]
  },
  {
   "cell_type": "markdown",
   "id": "21e075a1",
   "metadata": {},
   "source": [
    "In linear algebra, the transpose of a vector refers to an operation that converts a column vector into a row vector or vice versa. Transposition essentially flips the vector along its axis, changing its orientation. dot product is represented as:\n",
    "\n",
    "$$v^{T}u = \\overset{n}{\\sum}\\limits_{\\substack{i=1}}u_{i} v_{i}$$\n",
    "\n",
    "The function below is how we translate the formula above in python"
   ]
  },
  {
   "cell_type": "code",
   "execution_count": 52,
   "id": "162a9a2b",
   "metadata": {},
   "outputs": [],
   "source": [
    "def vector_vector_multiplication(u, v):\n",
    "    # step 1:\n",
    "    # make sure that both vectors are the same size. \n",
    "    # it is done by checking the shape of the vectors\n",
    "    assert u.shape[0] == v.shape[0]\n",
    "    \n",
    "    # step 2:\n",
    "    # get the number of element we have\n",
    "    n = u.shape[0]\n",
    "    \n",
    "    # we need the result variable which contains our dot product\n",
    "    result = 0.0\n",
    "    \n",
    "    # step 3:\n",
    "    # we go over all the element in a loop\n",
    "    for i in range(n):\n",
    "        # then we do the product between each element\n",
    "        result = result + u[i] * v[i]\n",
    "        \n",
    "    # finally, we return the result\n",
    "    return result"
   ]
  },
  {
   "cell_type": "code",
   "execution_count": 53,
   "id": "234a0428",
   "metadata": {},
   "outputs": [
    {
     "data": {
      "text/plain": [
       "14.0"
      ]
     },
     "execution_count": 53,
     "metadata": {},
     "output_type": "execute_result"
    }
   ],
   "source": [
    "vector_vector_multiplication(u,v)"
   ]
  },
  {
   "cell_type": "code",
   "execution_count": 54,
   "id": "58ba26aa",
   "metadata": {},
   "outputs": [
    {
     "data": {
      "text/plain": [
       "14"
      ]
     },
     "execution_count": 54,
     "metadata": {},
     "output_type": "execute_result"
    }
   ],
   "source": [
    "# the easier way to do the above calculation is through numpy\n",
    "u.dot(v)"
   ]
  },
  {
   "cell_type": "markdown",
   "id": "c091229d",
   "metadata": {},
   "source": [
    "## Matrix-Vector Multiplication\n",
    "\n",
    "In this type of multiplication for eaxample, we have a matrix U that we want to multiply by a vector v:\n",
    "\n",
    "$$U_v$$\n",
    "\n",
    "Say matrix U is a 3 x 4 matrix i.e, 3 rows and 4 columns and a single column vector v, we take each row of U and multiply by the vector v. we can represent it as:\n",
    "\n",
    "$$u_0^Tu$$\n",
    "\n",
    "\n",
    "$$u_1^Tu$$\n",
    "\n",
    "\n",
    "$$u_2^Tu$$\n",
    "\n",
    "Where 0, 1, and 2 attached to u are represents the rows of matrix u and T means transpose (where we convert from row to column or vice versa) each row of the matrix u to a column in order to be able to multiply it by vector v (which is a single column).\n",
    "\n",
    "**N/B:** the number of numbers that are on a single row of the u matrix must have the same number of numbers in the vector v.\n",
    "\n",
    "In the next 2 cells is the implementation of this multiplication both in python and numpy"
   ]
  },
  {
   "cell_type": "code",
   "execution_count": 69,
   "id": "e7bf0d4b",
   "metadata": {},
   "outputs": [],
   "source": [
    "U = np.array([\n",
    "    [2, 4, 5, 6],\n",
    "    [1, 2, 1, 2],\n",
    "    [3, 1, 2, 1]\n",
    "])"
   ]
  },
  {
   "cell_type": "code",
   "execution_count": 56,
   "id": "e519bf21",
   "metadata": {},
   "outputs": [
    {
     "data": {
      "text/plain": [
       "4"
      ]
     },
     "execution_count": 56,
     "metadata": {},
     "output_type": "execute_result"
    }
   ],
   "source": [
    "# U.shape # returns number of rows and columns\n",
    "# U.shape[1] helps us get the shape of the columns\n",
    "# U.shape[0] helps us get the shape of the rows\n",
    "U.shape[1] "
   ]
  },
  {
   "cell_type": "code",
   "execution_count": 67,
   "id": "6a815382",
   "metadata": {},
   "outputs": [],
   "source": [
    "def matrix_vector_multiplication(U, v):\n",
    "    # step 1:\n",
    "    # make sure that both vectors are the same size. \n",
    "    # it is done by checking the shape of the vectors.\n",
    "    # this time, checking the shape of the column for u against the \n",
    "    # column for v\n",
    "    \n",
    "    assert U.shape[1] == v.shape[0]\n",
    "    \n",
    "    # step 2:\n",
    "    # get the number of rows we have in U\n",
    "    \n",
    "    num_rows = U.shape[0]\n",
    "    \n",
    "    # we need the result variable which we will initialize with zeros\n",
    "    result = np.zeros(num_rows)\n",
    "    \n",
    "    # step 3:\n",
    "    # we go over all the element in a loop\n",
    "    for i in range(num_rows):\n",
    "        # then we need to access each row of U and calculate the dot\n",
    "        # product with the vector_vector_multiplication between each\n",
    "        # row of U and vector v. remember we already have a function\n",
    "        # calculates the vector_vector_multiplication and write the\n",
    "        # result as each element of the result\n",
    "        \n",
    "        result[i] = vector_vector_multiplication(U[i], v)\n",
    "        \n",
    "    # finally, we return the result\n",
    "    return result"
   ]
  },
  {
   "cell_type": "code",
   "execution_count": 68,
   "id": "a97d8c76",
   "metadata": {},
   "outputs": [
    {
     "data": {
      "text/plain": [
       "array([14.,  5.,  5.])"
      ]
     },
     "execution_count": 68,
     "metadata": {},
     "output_type": "execute_result"
    }
   ],
   "source": [
    "matrix_vector_multiplication(U, v)"
   ]
  },
  {
   "cell_type": "code",
   "execution_count": 70,
   "id": "8294ee20",
   "metadata": {},
   "outputs": [
    {
     "data": {
      "text/plain": [
       "array([14,  5,  5])"
      ]
     },
     "execution_count": 70,
     "metadata": {},
     "output_type": "execute_result"
    }
   ],
   "source": [
    "U.dot(v)"
   ]
  },
  {
   "cell_type": "markdown",
   "id": "1377174d",
   "metadata": {},
   "source": [
    "## Matrix-Matrix Multiplication\n",
    "\n",
    "Our example for this algebra, we have\n",
    "- a 3 x 4 matrix U and\n",
    "- a 4 x 3 matrix V\n",
    "\n",
    "the matrix V is broken down into several columns:\n",
    "\n",
    "$$V_0$$\n",
    "\n",
    "$$V_1$$\n",
    "\n",
    "$$V_2$$\n",
    "\n",
    "We will then get the entire matrix U. In this instance, the columns of V are transposed into rows. We have matrix U multiplied by each column of vector V (which is each column in V)\n",
    "\n",
    "$$UV_0$$\n",
    "\n",
    "$$UV_1$$\n",
    "\n",
    "$$UV_2$$\n"
   ]
  },
  {
   "cell_type": "code",
   "execution_count": 62,
   "id": "664f0167",
   "metadata": {},
   "outputs": [],
   "source": [
    "V = np.array([\n",
    "    [1, 1, 2],\n",
    "    [0, 0.5, 1],\n",
    "    [1, 2, 1],\n",
    "    [2, 1, 0]\n",
    "])"
   ]
  },
  {
   "cell_type": "code",
   "execution_count": 63,
   "id": "e78f5ed6",
   "metadata": {},
   "outputs": [
    {
     "data": {
      "text/plain": [
       "4"
      ]
     },
     "execution_count": 63,
     "metadata": {},
     "output_type": "execute_result"
    }
   ],
   "source": [
    "V.shape[0]"
   ]
  },
  {
   "cell_type": "code",
   "execution_count": 71,
   "id": "9442667a",
   "metadata": {},
   "outputs": [],
   "source": [
    "def matrix_matrix_multiplication(U, V):\n",
    "    assert U.shape[1] == v.shape[0]\n",
    "    \n",
    "    # no of rows will come from U\n",
    "    num_rows = U.shape[0]\n",
    "    \n",
    "    # no of columns will come from V\n",
    "    num_cols = V.shape[1]\n",
    "    \n",
    "    # we create matrix with result\n",
    "    result = np.zeros((num_rows, num_cols))\n",
    "    \n",
    "    for i in range(num_cols):\n",
    "        vi = V[:, i]\n",
    "        Uvi = matrix_vector_multiplication(U, vi)\n",
    "        result[:, i] = Uvi\n",
    "        \n",
    "    return result\n",
    "    "
   ]
  },
  {
   "cell_type": "code",
   "execution_count": 72,
   "id": "1b591ecf",
   "metadata": {},
   "outputs": [
    {
     "data": {
      "text/plain": [
       "array([[19. , 20. , 13. ],\n",
       "       [ 6. ,  6. ,  5. ],\n",
       "       [ 7. ,  8.5,  9. ]])"
      ]
     },
     "execution_count": 72,
     "metadata": {},
     "output_type": "execute_result"
    }
   ],
   "source": [
    "matrix_matrix_multiplication(U, V)"
   ]
  },
  {
   "cell_type": "code",
   "execution_count": 73,
   "id": "07f6aa26",
   "metadata": {},
   "outputs": [
    {
     "data": {
      "text/plain": [
       "array([[19. , 20. , 13. ],\n",
       "       [ 6. ,  6. ,  5. ],\n",
       "       [ 7. ,  8.5,  9. ]])"
      ]
     },
     "execution_count": 73,
     "metadata": {},
     "output_type": "execute_result"
    }
   ],
   "source": [
    "U.dot(V)"
   ]
  },
  {
   "cell_type": "markdown",
   "id": "14c3bc81",
   "metadata": {},
   "source": [
    "## Identity Matrix\n",
    "\n",
    "It is identified as capital I. it is a square matrix where on the diagonals, we have ones then zeros every other place. When we take any matrix e.g, U, and we multiply it by I, we get U back (even if we put I before U, we'll still get U back). In numpy, we use **np.eye** to create identity matrix"
   ]
  },
  {
   "cell_type": "code",
   "execution_count": 74,
   "id": "1b9394af",
   "metadata": {},
   "outputs": [
    {
     "data": {
      "text/plain": [
       "array([[1., 0., 0., 0., 0., 0., 0., 0., 0., 0.],\n",
       "       [0., 1., 0., 0., 0., 0., 0., 0., 0., 0.],\n",
       "       [0., 0., 1., 0., 0., 0., 0., 0., 0., 0.],\n",
       "       [0., 0., 0., 1., 0., 0., 0., 0., 0., 0.],\n",
       "       [0., 0., 0., 0., 1., 0., 0., 0., 0., 0.],\n",
       "       [0., 0., 0., 0., 0., 1., 0., 0., 0., 0.],\n",
       "       [0., 0., 0., 0., 0., 0., 1., 0., 0., 0.],\n",
       "       [0., 0., 0., 0., 0., 0., 0., 1., 0., 0.],\n",
       "       [0., 0., 0., 0., 0., 0., 0., 0., 1., 0.],\n",
       "       [0., 0., 0., 0., 0., 0., 0., 0., 0., 1.]])"
      ]
     },
     "execution_count": 74,
     "metadata": {},
     "output_type": "execute_result"
    }
   ],
   "source": [
    "np.eye(10)"
   ]
  },
  {
   "cell_type": "code",
   "execution_count": 78,
   "id": "ea43f675",
   "metadata": {},
   "outputs": [],
   "source": [
    "I = np.eye(3)"
   ]
  },
  {
   "cell_type": "code",
   "execution_count": 79,
   "id": "b3a7ef43",
   "metadata": {},
   "outputs": [
    {
     "data": {
      "text/plain": [
       "array([[1. , 1. , 2. ],\n",
       "       [0. , 0.5, 1. ],\n",
       "       [1. , 2. , 1. ],\n",
       "       [2. , 1. , 0. ]])"
      ]
     },
     "execution_count": 79,
     "metadata": {},
     "output_type": "execute_result"
    }
   ],
   "source": [
    "V"
   ]
  },
  {
   "cell_type": "code",
   "execution_count": 80,
   "id": "56b77346",
   "metadata": {},
   "outputs": [
    {
     "data": {
      "text/plain": [
       "array([[1. , 1. , 2. ],\n",
       "       [0. , 0.5, 1. ],\n",
       "       [1. , 2. , 1. ],\n",
       "       [2. , 1. , 0. ]])"
      ]
     },
     "execution_count": 80,
     "metadata": {},
     "output_type": "execute_result"
    }
   ],
   "source": [
    "V.dot(I)"
   ]
  },
  {
   "cell_type": "markdown",
   "id": "0283a9e7",
   "metadata": {},
   "source": [
    "The identity (I) matrix is useful for explaining what a matrix inverse is. Say we have matrix A, the inverse of A will be $$A^{-1}\n",
    "$$\n",
    "\n",
    "such that when we multiply it by A, we get I. We can use numpy to compute this."
   ]
  },
  {
   "cell_type": "code",
   "execution_count": 85,
   "id": "d2a755d0",
   "metadata": {},
   "outputs": [
    {
     "data": {
      "text/plain": [
       "array([[1. , 1. , 2. ],\n",
       "       [0. , 0.5, 1. ],\n",
       "       [1. , 2. , 1. ]])"
      ]
     },
     "execution_count": 85,
     "metadata": {},
     "output_type": "execute_result"
    }
   ],
   "source": [
    "Vs = V[[0, 1, 2]] # taking the first 3 rows (which is counted 0,1,2)\n",
    "Vs"
   ]
  },
  {
   "cell_type": "code",
   "execution_count": 87,
   "id": "1d4bb49c",
   "metadata": {},
   "outputs": [
    {
     "data": {
      "text/plain": [
       "array([[ 1.00000000e+00, -2.00000000e+00, -1.11022302e-16],\n",
       "       [-6.66666667e-01,  6.66666667e-01,  6.66666667e-01],\n",
       "       [ 3.33333333e-01,  6.66666667e-01, -3.33333333e-01]])"
      ]
     },
     "execution_count": 87,
     "metadata": {},
     "output_type": "execute_result"
    }
   ],
   "source": [
    "Vs_inv = np.linalg.inv(Vs) # compute the inverse of Vs\n",
    "Vs_inv"
   ]
  },
  {
   "cell_type": "code",
   "execution_count": 88,
   "id": "4a8d5025",
   "metadata": {},
   "outputs": [
    {
     "data": {
      "text/plain": [
       "array([[ 1.00000000e+00, -2.22044605e-16, -1.11022302e-16],\n",
       "       [ 0.00000000e+00,  1.00000000e+00, -1.11022302e-16],\n",
       "       [ 0.00000000e+00,  0.00000000e+00,  1.00000000e+00]])"
      ]
     },
     "execution_count": 88,
     "metadata": {},
     "output_type": "execute_result"
    }
   ],
   "source": [
    "Vs_inv.dot(Vs) # we get an identity matrix here\n",
    "# this will be important in regression"
   ]
  }
 ],
 "metadata": {
  "kernelspec": {
   "display_name": "Python 3 (ipykernel)",
   "language": "python",
   "name": "python3"
  },
  "language_info": {
   "codemirror_mode": {
    "name": "ipython",
    "version": 3
   },
   "file_extension": ".py",
   "mimetype": "text/x-python",
   "name": "python",
   "nbconvert_exporter": "python",
   "pygments_lexer": "ipython3",
   "version": "3.8.18"
  }
 },
 "nbformat": 4,
 "nbformat_minor": 5
}
